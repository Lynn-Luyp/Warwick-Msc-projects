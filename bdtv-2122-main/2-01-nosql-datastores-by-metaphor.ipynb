{
 "cells": [
  {
   "cell_type": "markdown",
   "metadata": {},
   "source": [
    "# NoSQL Datastores (by metaphor)"
   ]
  },
  {
   "cell_type": "markdown",
   "metadata": {},
   "source": [
    "## Key-Value Stores"
   ]
  },
  {
   "cell_type": "code",
   "execution_count": 35,
   "metadata": {},
   "outputs": [],
   "source": [
    "data = {1: {\"name\": \"John\", \"age\": 50, \"hobbies\": [\"computer games\", \"tennis\"]},\n",
    "        2: {\"name\": \"James\", \"age\": 68, \"hobbies\": [\"hockey\", \"hairdressing\", \"drill music\"]},\n",
    "        3: {\"name\": \"Armaghan\", \"age\": 31, \"hobbies\": [\"driving\", \"top gun\"]},\n",
    "        4: {\"name\": \"Jordan\", \"age\": 27}\n",
    "       }"
   ]
  },
  {
   "cell_type": "markdown",
   "metadata": {},
   "source": [
    "### Arbitrary Partitioning"
   ]
  },
  {
   "cell_type": "code",
   "execution_count": 36,
   "metadata": {},
   "outputs": [
    {
     "name": "stdout",
     "output_type": "stream",
     "text": [
      "{1: {'name': 'John', 'age': 50, 'hobbies': ['computer games', 'tennis']}, 2: {'name': 'James', 'age': 68, 'hobbies': ['hockey', 'hairdressing', 'drill music']}}\n",
      "{3: {'name': 'Armaghan', 'age': 31, 'hobbies': ['driving', 'top gun']}, 4: {'name': 'Jordan', 'age': 27}}\n"
     ]
    }
   ],
   "source": [
    "centre = int(len(data) / 2) + 1\n",
    "db1 = {key:data[key] for key in range(1, centre)}\n",
    "db2 = {key:data[key] for key in range(centre, len(data) + 1)}\n",
    "print(db1)\n",
    "print(db2)"
   ]
  },
  {
   "cell_type": "markdown",
   "metadata": {},
   "source": [
    "### Range Partitioning"
   ]
  },
  {
   "cell_type": "code",
   "execution_count": 37,
   "metadata": {},
   "outputs": [
    {
     "name": "stdout",
     "output_type": "stream",
     "text": [
      "{3: {'name': 'Armaghan', 'age': 31, 'hobbies': ['driving', 'top gun']}, 4: {'name': 'Jordan', 'age': 27}}\n",
      "{1: {'name': 'John', 'age': 50, 'hobbies': ['computer games', 'tennis']}, 2: {'name': 'James', 'age': 68, 'hobbies': ['hockey', 'hairdressing', 'drill music']}}\n"
     ]
    }
   ],
   "source": [
    "db3 = {}\n",
    "db4 = {}\n",
    "\n",
    "for key in range(1, len(data) + 1):\n",
    "    try:\n",
    "        if data[key][\"age\"] < 40:\n",
    "            db3[key] = data[key]\n",
    "        else:\n",
    "            db4[key] = data[key]\n",
    "    except:\n",
    "        pass\n",
    "\n",
    "print(db3)\n",
    "print(db4)"
   ]
  },
  {
   "cell_type": "markdown",
   "metadata": {},
   "source": [
    "## Column Databases"
   ]
  },
  {
   "cell_type": "code",
   "execution_count": 38,
   "metadata": {},
   "outputs": [
    {
     "name": "stdout",
     "output_type": "stream",
     "text": [
      "{0: {'name': 'John', 'age': 50}, 1: {'name': 'James', 'age': 68}, 2: {'name': 'Armaghan', 'age': 31}, 3: {'name': 'Jordan', 'age': 27}}\n",
      "{0: {'hobbies': ['computer games', 'tennis']}, 1: {'hobbies': ['hockey', 'hairdressing', 'drill music']}, 2: {'hobbies': ['driving', 'top gun']}}\n",
      "{'1-db5': 0, '1-db6': 0, '2-db5': 1, '2-db6': 1, '3-db5': 2, '3-db6': 2, '4-db5': 3}\n"
     ]
    }
   ],
   "source": [
    "# note this an inefficient implementation\n",
    "db5 = {}\n",
    "db6 = {}\n",
    "supercol = {}\n",
    "count = 0\n",
    "\n",
    "for key in range(1, len(data) + 1):\n",
    "    try:\n",
    "        if data[key][\"name\"] and data[key][\"age\"]:\n",
    "            db5[count] = {\"name\": data[key][\"name\"], \"age\": data[key][\"age\"]}\n",
    "            supercol[str(key)+\"-db5\"] = count\n",
    "    except:\n",
    "        try:\n",
    "            if data[key][\"name\"]:\n",
    "                db5[count] = {\"name\": data[key][\"name\"]}\n",
    "                supercol[str(key)+\"-db5\"] = count\n",
    "        except:\n",
    "            try:\n",
    "                if data[key][\"age\"]:\n",
    "                    db5[count] = {\"age\": data[key][\"age\"]}\n",
    "                    supercol[str(key)+\"-db5\"] = count\n",
    "            except:\n",
    "                pass\n",
    "    \n",
    "    try:\n",
    "        if data[key][\"hobbies\"]:\n",
    "            db6[count] = {\"hobbies\": data[key][\"hobbies\"]}\n",
    "            supercol[str(key)+\"-db6\"] = count\n",
    "    except:\n",
    "        pass\n",
    "    \n",
    "    count += 1\n",
    "    \n",
    "print(db5)\n",
    "print(db6)\n",
    "print(supercol)"
   ]
  },
  {
   "cell_type": "markdown",
   "metadata": {},
   "source": [
    "## Graph Databases"
   ]
  },
  {
   "cell_type": "code",
   "execution_count": 44,
   "metadata": {},
   "outputs": [],
   "source": [
    "newdata = {1: {\"name\": \"John\", \"age\": 50, \"hobbies\": [\"computer games\", \"tennis\"], \"manager\": \"Dan\"},\n",
    "        2: {\"name\": \"James\", \"age\": 68, \"hobbies\": [\"hockey\", \"hairdressing\", \"drill music\"], \"manager\": None},\n",
    "        3: {\"name\": \"Armaghan\", \"age\": 31, \"hobbies\": [\"driving\", \"top gun\"], \"manager\": \"Michael\"},\n",
    "        4: {\"name\": \"Jordan\", \"age\": 27, \"manager\": \"John\"},\n",
    "        5: {\"name\": \"Michael\", \"age\": 40, \"hobbies\": [\"python\", \"childcare\"], \"manager\": \"Dan\"}\n",
    "       }"
   ]
  },
  {
   "cell_type": "code",
   "execution_count": 46,
   "metadata": {},
   "outputs": [
    {
     "name": "stdout",
     "output_type": "stream",
     "text": [
      "     Source   Target       Direction\n",
      "0      John      Dan  Unidirectional\n",
      "1  Armaghan  Michael  Unidirectional\n",
      "2    Jordan     John  Unidirectional\n",
      "3   Michael      Dan  Unidirectional\n",
      "{0: {'name': 'John', 'age': 50, 'hobbies': ['computer games', 'tennis']}, 1: {'name': 'Armaghan', 'age': 31, 'hobbies': ['driving', 'top gun']}, 2: {'name': 'Jordan', 'age': 27}, 3: {'name': 'Michael', 'age': 40, 'hobbies': ['python', 'childcare']}}\n"
     ]
    }
   ],
   "source": [
    "# note this an inefficient implementation\n",
    "graph = {}\n",
    "meta = {}\n",
    "count = 0\n",
    "\n",
    "for key in range(1, len(newdata) + 1):\n",
    "    try:\n",
    "        if newdata[key][\"manager\"] != None:\n",
    "            graph[count] = {\"Source\": newdata[key][\"name\"], \"Target\": newdata[key][\"manager\"], \"Direction\": \"Unidirectional\"}\n",
    "            meta[count] = newdata[key]\n",
    "            meta[count].pop(\"manager\", None)\n",
    "            count += 1\n",
    "    except:\n",
    "        pass\n",
    "    \n",
    "import pandas as pd\n",
    "graphdf = pd.DataFrame(graph)\n",
    "\n",
    "print(graphdf.transpose())\n",
    "print(meta)"
   ]
  },
  {
   "cell_type": "code",
   "execution_count": null,
   "metadata": {},
   "outputs": [],
   "source": []
  },
  {
   "cell_type": "code",
   "execution_count": null,
   "metadata": {},
   "outputs": [],
   "source": []
  }
 ],
 "metadata": {
  "kernelspec": {
   "display_name": "Python 3",
   "language": "python",
   "name": "python3"
  },
  "language_info": {
   "codemirror_mode": {
    "name": "ipython",
    "version": 3
   },
   "file_extension": ".py",
   "mimetype": "text/x-python",
   "name": "python",
   "nbconvert_exporter": "python",
   "pygments_lexer": "ipython3",
   "version": "3.8.3"
  }
 },
 "nbformat": 4,
 "nbformat_minor": 4
}
