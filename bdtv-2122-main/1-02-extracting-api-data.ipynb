{
 "cells": [
  {
   "cell_type": "markdown",
   "metadata": {},
   "source": [
    "# Extracting Data from an API"
   ]
  },
  {
   "cell_type": "markdown",
   "metadata": {},
   "source": [
    "In this tutorial we will be extracting data from an API. In order to keep things simple we will use an API that doesn't require the developer (i.e. you) to possess an API key, although (as per the lecture) most important APIs have this requirement. To make things relevant we will use the API of one of the biggest academic databases in machine learning (and other computer science and general science topics) [arXiv](https://arxiv.org/)."
   ]
  },
  {
   "cell_type": "markdown",
   "metadata": {},
   "source": [
    "In fact, as is the case for many useful APIs, there is a Python package designed to interact with the _arXiv_ API ... imaginatively named [_arxiv_](http://lukasschwab.me/arxiv.py/index.html). While in the real world it would make more sense to use this, to gain a slightly fuller experience we will access the API by writing our own code.\n",
    "\n",
    "Let's begin with the example straight out of the _arXiv_ [docs](https://arxiv.org/help/api/user-manual#python_simple_example):"
   ]
  },
  {
   "cell_type": "code",
   "execution_count": 14,
   "metadata": {},
   "outputs": [
    {
     "name": "stdout",
     "output_type": "stream",
     "text": [
      "b'<?xml version=\"1.0\" encoding=\"UTF-8\"?>\\n<feed xmlns=\"http://www.w3.org/2005/Atom\">\\n  <link href=\"http://arxiv.org/api/query?search_query%3Dall%3Aelectron%26id_list%3D%26start%3D0%26max_results%3D1\" rel=\"self\" type=\"application/atom+xml\"/>\\n  <title type=\"html\">ArXiv Query: search_query=all:electron&amp;id_list=&amp;start=0&amp;max_results=1</title>\\n  <id>http://arxiv.org/api/cHxbiOdZaP56ODnBPIenZhzg5f8</id>\\n  <updated>2022-01-04T00:00:00-05:00</updated>\\n  <opensearch:totalResults xmlns:opensearch=\"http://a9.com/-/spec/opensearch/1.1/\">179031</opensearch:totalResults>\\n  <opensearch:startIndex xmlns:opensearch=\"http://a9.com/-/spec/opensearch/1.1/\">0</opensearch:startIndex>\\n  <opensearch:itemsPerPage xmlns:opensearch=\"http://a9.com/-/spec/opensearch/1.1/\">1</opensearch:itemsPerPage>\\n  <entry>\\n    <id>http://arxiv.org/abs/cond-mat/0102536v1</id>\\n    <updated>2001-02-28T20:12:09Z</updated>\\n    <published>2001-02-28T20:12:09Z</published>\\n    <title>Impact of Electron-Electron Cusp on Configuration Interaction Energies</title>\\n    <summary>  The effect of the electron-electron cusp on the convergence of configuration\\ninteraction (CI) wave functions is examined. By analogy with the\\npseudopotential approach for electron-ion interactions, an effective\\nelectron-electron interaction is developed which closely reproduces the\\nscattering of the Coulomb interaction but is smooth and finite at zero\\nelectron-electron separation. The exact many-electron wave function for this\\nsmooth effective interaction has no cusp at zero electron-electron separation.\\nWe perform CI and quantum Monte Carlo calculations for He and Be atoms, both\\nwith the Coulomb electron-electron interaction and with the smooth effective\\nelectron-electron interaction. We find that convergence of the CI expansion of\\nthe wave function for the smooth electron-electron interaction is not\\nsignificantly improved compared with that for the divergent Coulomb interaction\\nfor energy differences on the order of 1 mHartree. This shows that, contrary to\\npopular belief, description of the electron-electron cusp is not a limiting\\nfactor, to within chemical accuracy, for CI calculations.\\n</summary>\\n    <author>\\n      <name>David Prendergast</name>\\n      <arxiv:affiliation xmlns:arxiv=\"http://arxiv.org/schemas/atom\">Department of Physics</arxiv:affiliation>\\n    </author>\\n    <author>\\n      <name>M. Nolan</name>\\n      <arxiv:affiliation xmlns:arxiv=\"http://arxiv.org/schemas/atom\">NMRC, University College, Cork, Ireland</arxiv:affiliation>\\n    </author>\\n    <author>\\n      <name>Claudia Filippi</name>\\n      <arxiv:affiliation xmlns:arxiv=\"http://arxiv.org/schemas/atom\">Department of Physics</arxiv:affiliation>\\n    </author>\\n    <author>\\n      <name>Stephen Fahy</name>\\n      <arxiv:affiliation xmlns:arxiv=\"http://arxiv.org/schemas/atom\">Department of Physics</arxiv:affiliation>\\n    </author>\\n    <author>\\n      <name>J. C. Greer</name>\\n      <arxiv:affiliation xmlns:arxiv=\"http://arxiv.org/schemas/atom\">NMRC, University College, Cork, Ireland</arxiv:affiliation>\\n    </author>\\n    <arxiv:doi xmlns:arxiv=\"http://arxiv.org/schemas/atom\">10.1063/1.1383585</arxiv:doi>\\n    <link title=\"doi\" href=\"http://dx.doi.org/10.1063/1.1383585\" rel=\"related\"/>\\n    <arxiv:comment xmlns:arxiv=\"http://arxiv.org/schemas/atom\">11 pages, 6 figures, 3 tables, LaTeX209, submitted to The Journal of\\n  Chemical Physics</arxiv:comment>\\n    <arxiv:journal_ref xmlns:arxiv=\"http://arxiv.org/schemas/atom\">J. Chem. Phys. 115, 1626 (2001)</arxiv:journal_ref>\\n    <link href=\"http://arxiv.org/abs/cond-mat/0102536v1\" rel=\"alternate\" type=\"text/html\"/>\\n    <link title=\"pdf\" href=\"http://arxiv.org/pdf/cond-mat/0102536v1\" rel=\"related\" type=\"application/pdf\"/>\\n    <arxiv:primary_category xmlns:arxiv=\"http://arxiv.org/schemas/atom\" term=\"cond-mat.str-el\" scheme=\"http://arxiv.org/schemas/atom\"/>\\n    <category term=\"cond-mat.str-el\" scheme=\"http://arxiv.org/schemas/atom\"/>\\n  </entry>\\n</feed>\\n'\n"
     ]
    }
   ],
   "source": [
    "import urllib.request as libreq\n",
    "\n",
    "with libreq.urlopen('http://export.arxiv.org/api/query?search_query=all:electron&start=0&max_results=1') as url:\n",
    "    r = url.read()\n",
    "    print(r)"
   ]
  },
  {
   "cell_type": "markdown",
   "metadata": {},
   "source": [
    "The key part of our request is the URL we open:\n",
    "\n",
    "'http://export.arxiv.org/api/query?search_query=all:electron&start=0&max_results=1'\n",
    "\n",
    "This includes all the key elements of our request. \n",
    "\n",
    "We are passing a \"_search query_\" (as opposed to requesting a specific article ID). This is essentially the same as typing in our search keyword into the website search engine. In the example our keyword is \"electron\" and we select \"all\" fields (author, title, abstract/summary, etc.). Secondly we pass two parameters. The first is \"start=0\" (i.e. start at the beginning rather than with an offset) and the second says we want only one result. You can read more about the different options [here](https://arxiv.org/help/api/user-manual#_query_interface).\n",
    "\n",
    "Given this, let's modify our code to get a slightly different result:"
   ]
  },
  {
   "cell_type": "code",
   "execution_count": 15,
   "metadata": {},
   "outputs": [
    {
     "name": "stdout",
     "output_type": "stream",
     "text": [
      "b'<?xml version=\"1.0\" encoding=\"UTF-8\"?>\\n<feed xmlns=\"http://www.w3.org/2005/Atom\">\\n  <link href=\"http://arxiv.org/api/query?search_query%3Dall%3Abig%20data%26id_list%3D%26start%3D0%26max_results%3D2\" rel=\"self\" type=\"application/atom+xml\"/>\\n  <title type=\"html\">ArXiv Query: search_query=all:big data&amp;id_list=&amp;start=0&amp;max_results=2</title>\\n  <id>http://arxiv.org/api/IUokeS+hVBNCJX8CzzelXRfmcnA</id>\\n  <updated>2022-01-04T00:00:00-05:00</updated>\\n  <opensearch:totalResults xmlns:opensearch=\"http://a9.com/-/spec/opensearch/1.1/\">382977</opensearch:totalResults>\\n  <opensearch:startIndex xmlns:opensearch=\"http://a9.com/-/spec/opensearch/1.1/\">0</opensearch:startIndex>\\n  <opensearch:itemsPerPage xmlns:opensearch=\"http://a9.com/-/spec/opensearch/1.1/\">2</opensearch:itemsPerPage>\\n  <entry>\\n    <id>http://arxiv.org/abs/2012.09109v1</id>\\n    <updated>2020-12-15T16:18:52Z</updated>\\n    <published>2020-12-15T16:18:52Z</published>\\n    <title>Big Data</title>\\n    <summary>  The Internet of Things, crowdsourcing, social media, public authorities, and\\nother sources generate bigger and bigger data sets. Big and open data offers\\nmany benefits for emergency management, but also pose new challenges. This\\nchapter will review the sources of big data and their characteristics. We then\\ndiscuss potential benefits of big data for emergency management along with the\\ntechnological and societal challenges it poses. We review central technologies\\nfor big-data storage and processing in general, before presenting the Spark\\nbig-data engine in more detail. Finally, we review ethical and societal threats\\nthat big data pose.\\n</summary>\\n    <author>\\n      <name>Andreas L Opdahl</name>\\n    </author>\\n    <author>\\n      <name>Vimala Nunavath</name>\\n    </author>\\n    <arxiv:doi xmlns:arxiv=\"http://arxiv.org/schemas/atom\">10.1007/978-3-030-48099-8</arxiv:doi>\\n    <link title=\"doi\" href=\"http://dx.doi.org/10.1007/978-3-030-48099-8\" rel=\"related\"/>\\n    <arxiv:comment xmlns:arxiv=\"http://arxiv.org/schemas/atom\">Opdahl, A. L., and Nunavath, V. (2020). Big Data. Big Data in\\n  Emergency Management: Exploitation Techniques for Social and Mobile Data,\\n  15-29</arxiv:comment>\\n    <link href=\"http://arxiv.org/abs/2012.09109v1\" rel=\"alternate\" type=\"text/html\"/>\\n    <link title=\"pdf\" href=\"http://arxiv.org/pdf/2012.09109v1\" rel=\"related\" type=\"application/pdf\"/>\\n    <arxiv:primary_category xmlns:arxiv=\"http://arxiv.org/schemas/atom\" term=\"cs.CY\" scheme=\"http://arxiv.org/schemas/atom\"/>\\n    <category term=\"cs.CY\" scheme=\"http://arxiv.org/schemas/atom\"/>\\n  </entry>\\n  <entry>\\n    <id>http://arxiv.org/abs/1502.00823v1</id>\\n    <updated>2015-02-03T12:03:08Z</updated>\\n    <published>2015-02-03T12:03:08Z</published>\\n    <title>Big Data: Opportunities and Privacy Challenges</title>\\n    <summary>  Recent advances in data collection and computational statistics coupled with\\nincreases in computer processing power, along with the plunging costs of\\nstorage are making technologies to effectively analyze large sets of\\nheterogeneous data ubiquitous. Applying such technologies (often referred to as\\nbig data technologies) to an ever growing number and variety of internal and\\nexternal data sources, businesses and institutions can discover hidden\\ncorrelations between data items, and extract actionable insights needed for\\ninnovation and economic growth. While on one hand big data technologies yield\\ngreat promises, on the other hand, they raise critical security, privacy, and\\nethical issues, which if left unaddressed may become significant barriers to\\nthe fulfillment of expected opportunities and long-term success of big data. In\\nthis paper, we discuss the benefits of big data to individuals and society at\\nlarge, focusing on seven key use cases: Big data for business optimization and\\ncustomer analytics, big data and science, big data and health care, big data\\nand finance, big data and the emerging energy distribution systems, big/open\\ndata as enablers of openness and efficiency in government, and big data\\nsecurity. In addition to benefits and opportunities, we discuss the security,\\nprivacy, and ethical issues at stake.\\n</summary>\\n    <author>\\n      <name>Hervais Simo Fhom</name>\\n    </author>\\n    <arxiv:comment xmlns:arxiv=\"http://arxiv.org/schemas/atom\">Technical report</arxiv:comment>\\n    <link href=\"http://arxiv.org/abs/1502.00823v1\" rel=\"alternate\" type=\"text/html\"/>\\n    <link title=\"pdf\" href=\"http://arxiv.org/pdf/1502.00823v1\" rel=\"related\" type=\"application/pdf\"/>\\n    <arxiv:primary_category xmlns:arxiv=\"http://arxiv.org/schemas/atom\" term=\"cs.CR\" scheme=\"http://arxiv.org/schemas/atom\"/>\\n    <category term=\"cs.CR\" scheme=\"http://arxiv.org/schemas/atom\"/>\\n  </entry>\\n</feed>\\n'\n"
     ]
    }
   ],
   "source": [
    "import urllib.request as libreq\n",
    "\n",
    "with libreq.urlopen('http://export.arxiv.org/api/query?search_query=all:big%20data&start=0&max_results=2') as url:\n",
    "    r = url.read()\n",
    "    print(r)"
   ]
  },
  {
   "cell_type": "markdown",
   "metadata": {},
   "source": [
    "Here we have changed the search term to be \"big data\". Note we use the standard URL encoding for a space between each word which is \"%20\". You can read more about URL endcoding [here](https://www.tutorialspoint.com/html/html_url_encoding.htm). We have also requested two results (\"max_results=2\") rather than one."
   ]
  },
  {
   "cell_type": "markdown",
   "metadata": {},
   "source": [
    "## Exercises\n",
    "1) Using the tools from the previous Notebook (i.e. _BeautifulSoup),_ can you extract the abstract (listed as \\<summary\\>) from each of these papers?\n",
    "\n",
    "2) Can you create a _pandas_ DataFrame of the 10 most relevant results for \"web scraping\" including author, title, year and abstract/summary? Hint: you will need to include a [sort order](https://arxiv.org/help/api/user-manual#sort). "
   ]
  },
  {
   "cell_type": "code",
   "execution_count": null,
   "metadata": {},
   "outputs": [],
   "source": []
  }
 ],
 "metadata": {
  "anaconda-cloud": {},
  "kernelspec": {
   "display_name": "Python 3 (ipykernel)",
   "language": "python",
   "name": "python3"
  },
  "language_info": {
   "codemirror_mode": {
    "name": "ipython",
    "version": 3
   },
   "file_extension": ".py",
   "mimetype": "text/x-python",
   "name": "python",
   "nbconvert_exporter": "python",
   "pygments_lexer": "ipython3",
   "version": "3.10.0"
  }
 },
 "nbformat": 4,
 "nbformat_minor": 2
}
