{
 "cells": [
  {
   "cell_type": "markdown",
   "metadata": {},
   "source": [
    "# Building an API with FastAPI"
   ]
  },
  {
   "cell_type": "markdown",
   "metadata": {},
   "source": [
    "In this workbook we will building a relatively simple API and serving it on our local machine (localhost). People have built APIs with Python for some time, and packages such as _flask_ have been popular for doing so. However, in the last couple of years _FastAPI_ has become a very popular solution for this, and will be our chosen package. We need to begin by installing as normal:"
   ]
  },
  {
   "cell_type": "code",
   "execution_count": 2,
   "metadata": {},
   "outputs": [
    {
     "name": "stdout",
     "output_type": "stream",
     "text": [
      "Collecting fastapi[all]\n",
      "  Using cached fastapi-0.70.1-py3-none-any.whl (51 kB)\n",
      "Requirement already satisfied: starlette==0.16.0 in c:\\python\\python310\\lib\\site-packages (from fastapi[all]) (0.16.0)\n",
      "Requirement already satisfied: pydantic!=1.7,!=1.7.1,!=1.7.2,!=1.7.3,!=1.8,!=1.8.1,<2.0.0,>=1.6.2 in c:\\python\\python310\\lib\\site-packages (from fastapi[all]) (1.9.0)\n",
      "Collecting itsdangerous<3.0.0,>=1.1.0\n",
      "  Using cached itsdangerous-2.0.1-py3-none-any.whl (18 kB)\n",
      "Requirement already satisfied: requests<3.0.0,>=2.24.0 in c:\\python\\python310\\lib\\site-packages (from fastapi[all]) (2.27.0)\n",
      "Collecting python-multipart<0.0.6,>=0.0.5\n",
      "  Using cached python-multipart-0.0.5.tar.gz (32 kB)\n",
      "  Preparing metadata (setup.py): started\n",
      "  Preparing metadata (setup.py): finished with status 'done'\n",
      "Collecting ujson<5.0.0,>=4.0.1\n",
      "  Using cached ujson-4.3.0-cp310-cp310-win_amd64.whl (44 kB)\n",
      "Collecting email_validator<2.0.0,>=1.1.1\n",
      "  Using cached email_validator-1.1.3-py2.py3-none-any.whl (18 kB)\n",
      "Requirement already satisfied: pyyaml<6.0.0,>=5.3.1 in c:\\python\\python310\\lib\\site-packages (from fastapi[all]) (5.4.1)\n",
      "Collecting orjson<4.0.0,>=3.2.1\n",
      "  Using cached orjson-3.6.5-cp310-none-win_amd64.whl (181 kB)\n",
      "Requirement already satisfied: uvicorn[standard]<0.16.0,>=0.12.0 in c:\\python\\python310\\lib\\site-packages (from fastapi[all]) (0.15.0)\n",
      "Requirement already satisfied: jinja2<4.0.0,>=2.11.2 in c:\\python\\python310\\lib\\site-packages (from fastapi[all]) (3.0.3)\n",
      "Requirement already satisfied: anyio<4,>=3.0.0 in c:\\python\\python310\\lib\\site-packages (from starlette==0.16.0->fastapi[all]) (3.4.0)\n",
      "Collecting dnspython>=1.15.0\n",
      "  Using cached dnspython-2.1.0-py3-none-any.whl (241 kB)\n",
      "Requirement already satisfied: idna>=2.0.0 in c:\\python\\python310\\lib\\site-packages (from email_validator<2.0.0,>=1.1.1->fastapi[all]) (3.3)\n",
      "Requirement already satisfied: MarkupSafe>=2.0 in c:\\python\\python310\\lib\\site-packages (from jinja2<4.0.0,>=2.11.2->fastapi[all]) (2.0.1)\n",
      "Requirement already satisfied: typing-extensions>=3.7.4.3 in c:\\python\\python310\\lib\\site-packages (from pydantic!=1.7,!=1.7.1,!=1.7.2,!=1.7.3,!=1.8,!=1.8.1,<2.0.0,>=1.6.2->fastapi[all]) (4.0.1)\n",
      "Requirement already satisfied: six>=1.4.0 in c:\\python\\python310\\lib\\site-packages (from python-multipart<0.0.6,>=0.0.5->fastapi[all]) (1.16.0)\n",
      "Requirement already satisfied: charset-normalizer~=2.0.0 in c:\\python\\python310\\lib\\site-packages (from requests<3.0.0,>=2.24.0->fastapi[all]) (2.0.7)\n",
      "Requirement already satisfied: urllib3<1.27,>=1.21.1 in c:\\python\\python310\\lib\\site-packages (from requests<3.0.0,>=2.24.0->fastapi[all]) (1.26.7)\n",
      "Requirement already satisfied: certifi>=2017.4.17 in c:\\python\\python310\\lib\\site-packages (from requests<3.0.0,>=2.24.0->fastapi[all]) (2021.10.8)\n",
      "Requirement already satisfied: asgiref>=3.4.0 in c:\\python\\python310\\lib\\site-packages (from uvicorn[standard]<0.16.0,>=0.12.0->fastapi[all]) (3.4.1)\n",
      "Requirement already satisfied: h11>=0.8 in c:\\python\\python310\\lib\\site-packages (from uvicorn[standard]<0.16.0,>=0.12.0->fastapi[all]) (0.12.0)\n",
      "Requirement already satisfied: click>=7.0 in c:\\python\\python310\\lib\\site-packages (from uvicorn[standard]<0.16.0,>=0.12.0->fastapi[all]) (8.0.3)\n",
      "Requirement already satisfied: colorama>=0.4 in c:\\python\\python310\\lib\\site-packages (from uvicorn[standard]<0.16.0,>=0.12.0->fastapi[all]) (0.4.4)\n",
      "Requirement already satisfied: python-dotenv>=0.13 in c:\\python\\python310\\lib\\site-packages (from uvicorn[standard]<0.16.0,>=0.12.0->fastapi[all]) (0.19.2)\n",
      "Requirement already satisfied: websockets>=9.1 in c:\\python\\python310\\lib\\site-packages (from uvicorn[standard]<0.16.0,>=0.12.0->fastapi[all]) (9.1)\n",
      "Collecting httptools==0.2.*\n",
      "  Using cached httptools-0.2.0.tar.gz (169 kB)\n",
      "  Preparing metadata (setup.py): started\n",
      "  Preparing metadata (setup.py): finished with status 'done'\n",
      "Requirement already satisfied: watchgod>=0.6 in c:\\python\\python310\\lib\\site-packages (from uvicorn[standard]<0.16.0,>=0.12.0->fastapi[all]) (0.7)\n",
      "Requirement already satisfied: sniffio>=1.1 in c:\\python\\python310\\lib\\site-packages (from anyio<4,>=3.0.0->starlette==0.16.0->fastapi[all]) (1.2.0)\n",
      "Using legacy 'setup.py install' for python-multipart, since package 'wheel' is not installed.\n",
      "Using legacy 'setup.py install' for httptools, since package 'wheel' is not installed.\n",
      "Installing collected packages: httptools, dnspython, ujson, python-multipart, orjson, itsdangerous, fastapi, email-validator\n",
      "    Running setup.py install for httptools: started\n",
      "    Running setup.py install for httptools: finished with status 'error'\n"
     ]
    },
    {
     "name": "stderr",
     "output_type": "stream",
     "text": [
      "    ERROR: Command errored out with exit status 1:\n",
      "     command: 'C:\\Python\\Python310\\python.exe' -u -c 'import io, os, sys, setuptools, tokenize; sys.argv[0] = '\"'\"'C:\\\\Users\\\\empjb\\\\AppData\\\\Local\\\\Temp\\\\pip-install-jlrhfl8u\\\\httptools_46b1e887d9fe4480b31722663bd526da\\\\setup.py'\"'\"'; __file__='\"'\"'C:\\\\Users\\\\empjb\\\\AppData\\\\Local\\\\Temp\\\\pip-install-jlrhfl8u\\\\httptools_46b1e887d9fe4480b31722663bd526da\\\\setup.py'\"'\"';f = getattr(tokenize, '\"'\"'open'\"'\"', open)(__file__) if os.path.exists(__file__) else io.StringIO('\"'\"'from setuptools import setup; setup()'\"'\"');code = f.read().replace('\"'\"'\\r\\n'\"'\"', '\"'\"'\\n'\"'\"');f.close();exec(compile(code, __file__, '\"'\"'exec'\"'\"'))' install --record 'C:\\Users\\empjb\\AppData\\Local\\Temp\\pip-record-k262_9nt\\install-record.txt' --single-version-externally-managed --compile --install-headers 'C:\\Python\\Python310\\Include\\httptools'\n",
      "         cwd: C:\\Users\\empjb\\AppData\\Local\\Temp\\pip-install-jlrhfl8u\\httptools_46b1e887d9fe4480b31722663bd526da\\\n",
      "    Complete output (25 lines):\n",
      "    running install\n",
      "    running build\n",
      "    running build_py\n",
      "    creating build\n",
      "    creating build\\lib.win-amd64-3.10\n",
      "    creating build\\lib.win-amd64-3.10\\httptools\n",
      "    copying httptools\\_version.py -> build\\lib.win-amd64-3.10\\httptools\n",
      "    copying httptools\\__init__.py -> build\\lib.win-amd64-3.10\\httptools\n",
      "    creating build\\lib.win-amd64-3.10\\httptools\\parser\n",
      "    copying httptools\\parser\\errors.py -> build\\lib.win-amd64-3.10\\httptools\\parser\n",
      "    copying httptools\\parser\\__init__.py -> build\\lib.win-amd64-3.10\\httptools\\parser\n",
      "    running egg_info\n",
      "    writing httptools.egg-info\\PKG-INFO\n",
      "    writing dependency_links to httptools.egg-info\\dependency_links.txt\n",
      "    writing requirements to httptools.egg-info\\requires.txt\n",
      "    writing top-level names to httptools.egg-info\\top_level.txt\n",
      "    reading manifest file 'httptools.egg-info\\SOURCES.txt'\n",
      "    reading manifest template 'MANIFEST.in'\n",
      "    adding license file 'LICENSE'\n",
      "    writing manifest file 'httptools.egg-info\\SOURCES.txt'\n",
      "    copying httptools\\parser\\parser.c -> build\\lib.win-amd64-3.10\\httptools\\parser\n",
      "    copying httptools\\parser\\url_parser.c -> build\\lib.win-amd64-3.10\\httptools\\parser\n",
      "    running build_ext\n",
      "    building 'httptools.parser.parser' extension\n",
      "    error: Microsoft Visual C++ 14.0 or greater is required. Get it with \"Microsoft C++ Build Tools\": https://visualstudio.microsoft.com/visual-cpp-build-tools/\n",
      "    ----------------------------------------\n",
      "ERROR: Command errored out with exit status 1: 'C:\\Python\\Python310\\python.exe' -u -c 'import io, os, sys, setuptools, tokenize; sys.argv[0] = '\"'\"'C:\\\\Users\\\\empjb\\\\AppData\\\\Local\\\\Temp\\\\pip-install-jlrhfl8u\\\\httptools_46b1e887d9fe4480b31722663bd526da\\\\setup.py'\"'\"'; __file__='\"'\"'C:\\\\Users\\\\empjb\\\\AppData\\\\Local\\\\Temp\\\\pip-install-jlrhfl8u\\\\httptools_46b1e887d9fe4480b31722663bd526da\\\\setup.py'\"'\"';f = getattr(tokenize, '\"'\"'open'\"'\"', open)(__file__) if os.path.exists(__file__) else io.StringIO('\"'\"'from setuptools import setup; setup()'\"'\"');code = f.read().replace('\"'\"'\\r\\n'\"'\"', '\"'\"'\\n'\"'\"');f.close();exec(compile(code, __file__, '\"'\"'exec'\"'\"'))' install --record 'C:\\Users\\empjb\\AppData\\Local\\Temp\\pip-record-k262_9nt\\install-record.txt' --single-version-externally-managed --compile --install-headers 'C:\\Python\\Python310\\Include\\httptools' Check the logs for full command output.\n"
     ]
    }
   ],
   "source": [
    "!pip install \"fastapi[all]\""
   ]
  },
  {
   "cell_type": "markdown",
   "metadata": {
    "collapsed": true
   },
   "source": [
    "Next, we will make some data that can be served from our API:"
   ]
  },
  {
   "cell_type": "code",
   "execution_count": 2,
   "metadata": {},
   "outputs": [],
   "source": [
    "from fastapi import FastAPI\n",
    "\n",
    "datastore = {1001: {\"name\": \"Jordan Bruno\", \"teacher_rank\": 7},\n",
    "            1002: {\"name\": \"Liping Zheng\", \"teacher_rank\": 2}, \n",
    "            1003: {\"name\": \"Michael Mortenson\", \"teacher_rank\": 5}\n",
    "            }"
   ]
  },
  {
   "cell_type": "markdown",
   "metadata": {},
   "source": [
    "After importing the package we build a simple data dictionary with three staff members each of which have an ID, name and their overall ranking as a teacher as maintained by WMG (as of 2021/12/02). Of course, in practice we would use a proper datastore of some kind, but this will be enough to serve our purposes. Our next task is to build some basic API functionality: "
   ]
  },
  {
   "cell_type": "code",
   "execution_count": 3,
   "metadata": {},
   "outputs": [],
   "source": [
    "app = FastAPI()\n",
    "\n",
    "@app.get(\"/all\")\n",
    "async def get_all():\n",
    "\treturn datastore"
   ]
  },
  {
   "cell_type": "markdown",
   "metadata": {},
   "source": [
    "Our code starts by declaring a variable \"app\" as a _FastAPI_ object. Having done this we can link further code to this object using decorators. This is shown in the line:\n",
    "\n",
    "_\\@app.get(\"/all\")_\n",
    "\n",
    "Here we do a few things. Firstly the _@app_ part acts as our decorator _(@{variable}_ means we are declaring the below function as a part of the variable given). Secondly we specify our function will work for any GET request to our given endpoint (URL). Lastly we specify the path element from our endpoint (the bit that comes after our domain) that we associate with this request. In this case we will trigger this function anytime a user hits the endpoint _/all_. I.e. if our domain was _api.bdtv.com_ this function triggers anytime someone calls _https://api.bdtv.com/all._\n",
    "\n",
    "Underneath our decorator we specify a function much like we have in the bootcamp previously. There is one difference in our fist line which is that we declare this to be an asynchronus function with _async._ This is not really necessary for this particular task but it is usually good practice. In the most simplistic terms, _async_ just tells the computer that the function may take some time and that it can work on other tasks while waiting. See more [here](https://fastapi.tiangolo.com/async/#in-a-hurry). Finally we have a return statement, which in this case tells the API to return all data in the datastore."
   ]
  },
  {
   "cell_type": "markdown",
   "metadata": {},
   "source": [
    "While a useful function, in practice we would more likely want users to be able to select specific data rather than everything, and we can do this by having them pass information (e.g. ids, names, etc.) in the request (the endpoint)."
   ]
  },
  {
   "cell_type": "code",
   "execution_count": 4,
   "metadata": {},
   "outputs": [],
   "source": [
    "@app.get(\"/ids/{id}\")\n",
    "async def get_by_id(id: int):\n",
    "\ttry:\n",
    "\t\treturn datastore[id] # subset the dictionary by the ID\n",
    "\texcept:\n",
    "\t\treturn \"No records found\" # return if key does not exist"
   ]
  },
  {
   "cell_type": "markdown",
   "metadata": {},
   "source": [
    "Much of this is unchanged except we now have a changable variable (\"id\") which can be used to specify a particular staff member. This forms part of the endpoint (the text of the API call - shown as \"{id}\" in the decorator command). It also is used in the function as an expected parameter - \"(id)\", which we delare as an int (rather than string as it would be in the endpoint path) - and also then in the _return_ statement to filter the _database_ dictionary. (Note we also use _try_ and _except_ to deal with the possible case of someone submitting an ID which is not in our database). \n",
    "\n",
    "In other words, a user can make a call to\n",
    "\n",
    "_https://api.bdtv.com/ids/1003_\n",
    "\n",
    "and expect to see the following data returned:\n",
    "\n",
    "_name: Michael Mortenson<br>teacher_rank: 5_"
   ]
  },
  {
   "cell_type": "markdown",
   "metadata": {},
   "source": [
    "We can build on this concept by creating slightly more complicated functions to subset the dictionary. Such as:"
   ]
  },
  {
   "cell_type": "code",
   "execution_count": 5,
   "metadata": {},
   "outputs": [],
   "source": [
    "@app.get(\"/names/{name}\")\n",
    "async def get_by_name(name):\n",
    "\toutput = \"No records found\" # placeholder if no value matched\n",
    "\tfor sid in datastore:\n",
    "\t\tif datastore[sid]['name'] == name: # match by the name value\n",
    "\t\t\toutput = datastore[sid] # replace placeholder with record\n",
    "\treturn output"
   ]
  },
  {
   "cell_type": "markdown",
   "metadata": {},
   "source": [
    "Ultimately we have the same process here, the only change is that we need to match a value which is nested in the dictionary. We achieve this by looping through the dictionary until we can match the \"name\". Note that this is not necessarily the most efficient way to do this (we could use list comprehension or similar) and also we will have issues if there is more than one record with the same name (in this case only the last record will be displayed). However, it will work for our purposes."
   ]
  },
  {
   "cell_type": "markdown",
   "metadata": {},
   "source": [
    "We can put all this code together (as below). We want this code to be run as a standalone Python file (outside of Jupyter). We could save from here or copy and paste into a text/code editor and save from there. However, the easiest route is to take the Python file (\"staffapp.py\") from the Github and saving it to a location on our machine. It will be easiest to create a new folder and add this file - while noting the path directory (in my case \"C:/Users/u4033/fastapi\") as we need it in the next task."
   ]
  },
  {
   "cell_type": "code",
   "execution_count": 6,
   "metadata": {},
   "outputs": [],
   "source": [
    "from fastapi import FastAPI\n",
    "\n",
    "datastore = {1001: {\"name\": \"Jordan Bruno\", \"teacher_rank\": 7},\n",
    "\t\t\t1002: {\"name\": \"Liping Zheng\", \"teacher_rank\": 2}, \n",
    "\t\t\t1003: {\"name\": \"Michael Mortenson\", \"teacher_rank\": 5}\n",
    "\t\t\t}\n",
    "\n",
    "app = FastAPI()\n",
    "\n",
    "@app.get(\"/all\")\n",
    "async def get_all():\n",
    "\treturn datastore\n",
    "\n",
    "@app.get(\"/ids/{id}\")\n",
    "async def get_by_id(id: int):\n",
    "\ttry:\n",
    "\t\treturn datastore[id] # subset the dictionary by the ID\n",
    "\texcept:\n",
    "\t\treturn \"No records found\" # return if key does not exist\n",
    "\t\n",
    "@app.get(\"/names/{name}\")\n",
    "async def get_by_name(name):\n",
    "\toutput = \"No records found\" # placeholder if no value matched\n",
    "\tfor sid in datastore:\n",
    "\t\tif datastore[sid]['name'] == name: # match by the name value\n",
    "\t\t\toutput = datastore[sid] # replace placeholder with record\n",
    "\treturn output"
   ]
  },
  {
   "cell_type": "markdown",
   "metadata": {},
   "source": [
    "We now will run our app as a remote API we can make calls to. We can do this with _uvicorn_ - a basic webserver for _FastAPI_ - that we installed earlier as part of the _FastAPI_ package. However, this is not something we can inside of Notebooks. You will need instead to switch to __Command Prompt in Windows__ or __Terminal in Mac__. Search for this on your machine and launch it.\n",
    "\n",
    "First of all we need to navigate to the folder we created earlier (in my case \"C:/Users/u4033/fastapi\"). We can do this in either _Command Prompt_ or _Terminal_ (same code) with the _cd_ (which stands for \"change directory\") command. \n",
    "\n",
    "_Note the next code is not to be run in a Notebook but from the Command Prompt or Terminal_"
   ]
  },
  {
   "cell_type": "code",
   "execution_count": null,
   "metadata": {},
   "outputs": [],
   "source": [
    "cd C:/Users/u4033/fastapi"
   ]
  },
  {
   "cell_type": "markdown",
   "metadata": {},
   "source": [
    "Next we can runn the app:"
   ]
  },
  {
   "cell_type": "code",
   "execution_count": null,
   "metadata": {},
   "outputs": [],
   "source": [
    "python -m uvicorn staffapp:app --reload"
   ]
  },
  {
   "attachments": {
    "image.png": {
     "image/png": "[encoded data removed]"
    }
   },
   "cell_type": "markdown",
   "metadata": {},
   "source": [
    "If the code has worked you should see something like the following:\n",
    "\n",
    "![image.png](attachment:image.png)\n",
    "\n",
    "We will interact with the API in the next step.\n",
    "\n",
    "If you have errors you may need to specify the version of Python to use (the one we are using in our Notebooks). You can find that using the _sys_ module:"
   ]
  },
  {
   "cell_type": "code",
   "execution_count": 7,
   "metadata": {},
   "outputs": [
    {
     "data": {
      "text/plain": [
       "'C:\\\\Users\\\\u4033\\\\anaconda3\\\\python.exe'"
      ]
     },
     "execution_count": 7,
     "metadata": {},
     "output_type": "execute_result"
    }
   ],
   "source": [
    "import sys\n",
    "sys.executable"
   ]
  },
  {
   "cell_type": "markdown",
   "metadata": {},
   "source": [
    "This can be copied into the above code - so in my case it would be:"
   ]
  },
  {
   "cell_type": "code",
   "execution_count": null,
   "metadata": {},
   "outputs": [],
   "source": [
    "C:/Users/u4033/anaconda3/python.exe -m uvicorn staffapp:app --reload"
   ]
  },
  {
   "cell_type": "markdown",
   "metadata": {},
   "source": [
    "Any other problems report to us and we will try to resolve them!"
   ]
  },
  {
   "attachments": {
    "image.png": {
     "image/png": "[encoded data removed]"
    }
   },
   "cell_type": "markdown",
   "metadata": {},
   "source": [
    "Having started the application we can navigate to it via our browser (the app is running on _localhost_ - i.e. running on our machine). Type in _localhost:8000/all_ into your browser of choice and you should see something like this:\n",
    "\n",
    "![image.png](attachment:image.png)"
   ]
  },
  {
   "attachments": {
    "image.png": {
     "image/png": "[encoded data removed]"
    }
   },
   "cell_type": "markdown",
   "metadata": {},
   "source": [
    "Type in _localhost:8000/ids/1002_ and you should see:\n",
    "\n",
    "![image.png](attachment:image.png)"
   ]
  },
  {
   "attachments": {
    "image.png": {
     "image/png": "[encoded data removed]"
    }
   },
   "cell_type": "markdown",
   "metadata": {},
   "source": [
    "And finally type _localhost:8000/names/Michael%20Mortenson_ (note the use of _%20_ to represent the space between names as in a previous session) and you should see:\n",
    "\n",
    "![image.png](attachment:image.png)"
   ]
  },
  {
   "cell_type": "markdown",
   "metadata": {},
   "source": [
    "We have built a working API! Well done :)"
   ]
  },
  {
   "cell_type": "code",
   "execution_count": null,
   "metadata": {},
   "outputs": [],
   "source": []
  }
 ],
 "metadata": {
  "kernelspec": {
   "display_name": "Python 3 (ipykernel)",
   "language": "python",
   "name": "python3"
  },
  "language_info": {
   "codemirror_mode": {
    "name": "ipython",
    "version": 3
   },
   "file_extension": ".py",
   "mimetype": "text/x-python",
   "name": "python",
   "nbconvert_exporter": "python",
   "pygments_lexer": "ipython3",
   "version": "3.10.0"
  }
 },
 "nbformat": 4,
 "nbformat_minor": 2
}
