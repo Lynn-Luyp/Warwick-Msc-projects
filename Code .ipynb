{
 "cells": [
  {
   "cell_type": "markdown",
   "id": "2c0aad87",
   "metadata": {
    "id": "f4b9b716",
    "papermill": {
     "duration": 0.057382,
     "end_time": "2022-02-04T20:53:59.551844",
     "exception": false,
     "start_time": "2022-02-04T20:53:59.494462",
     "status": "completed"
    },
    "tags": []
   },
   "source": [
    "---"
   ]
  },
  {
   "cell_type": "markdown",
   "id": "dac03ed9",
   "metadata": {
    "id": "34257b36",
    "papermill": {
     "duration": 0.054314,
     "end_time": "2022-02-04T20:54:00.667123",
     "exception": false,
     "start_time": "2022-02-04T20:54:00.612809",
     "status": "completed"
    },
    "tags": []
   },
   "source": [
    "# <center>1. Data Exploration"
   ]
  },
  {
   "cell_type": "code",
   "execution_count": 1,
   "id": "909e495a",
   "metadata": {
    "_kg_hide-input": true,
    "execution": {
     "iopub.execute_input": "2022-02-04T20:54:00.795814Z",
     "iopub.status.busy": "2022-02-04T20:54:00.785361Z",
     "iopub.status.idle": "2022-02-04T20:54:02.732205Z",
     "shell.execute_reply": "2022-02-04T20:54:02.732742Z",
     "shell.execute_reply.started": "2022-02-04T20:43:36.001889Z"
    },
    "id": "14121a2f",
    "papermill": {
     "duration": 2.010853,
     "end_time": "2022-02-04T20:54:02.733071",
     "exception": false,
     "start_time": "2022-02-04T20:54:00.722218",
     "status": "completed"
    },
    "tags": []
   },
   "outputs": [],
   "source": [
    "#Importing the basic librarires\n",
    "\n",
    "import os\n",
    "import time\n",
    "import math\n",
    "import scipy\n",
    "import numpy as np\n",
    "import pandas as pd\n",
    "import seaborn as sns\n",
    "from sklearn.svm import SVC\n",
    "from scipy.stats import randint\n",
    "from scipy.stats import loguniform\n",
    "from IPython.display import display\n",
    "from sklearn.decomposition import PCA\n",
    "from imblearn.over_sampling import SMOTE\n",
    "from sklearn.impute import SimpleImputer\n",
    "from sklearn.naive_bayes import BernoulliNB\n",
    "from sklearn.tree import DecisionTreeClassifier\n",
    "from sklearn.preprocessing import OneHotEncoder\n",
    "from sklearn.preprocessing import StandardScaler\n",
    "from sklearn.ensemble import RandomForestClassifier\n",
    "from sklearn.linear_model import LogisticRegression\n",
    "from sklearn.preprocessing import PolynomialFeatures\n",
    "from sklearn.model_selection import train_test_split\n",
    "from sklearn.model_selection import RandomizedSearchCV\n",
    "from statsmodels.stats.outliers_influence import variance_inflation_factor\n",
    "from scikitplot.metrics import plot_roc_curve as auc_roc\n",
    "from sklearn.metrics import accuracy_score, confusion_matrix, classification_report,f1_score,roc_auc_score, roc_curve, precision_score, recall_score\n",
    "\n",
    "import matplotlib.pyplot as plt\n",
    "plt.rcParams['figure.figsize'] = [10,6]\n",
    "import warnings   \n",
    "warnings.filterwarnings('ignore')\n",
    "\n"
   ]
  },
  {
   "cell_type": "code",
   "execution_count": 2,
   "id": "48eb64e5",
   "metadata": {
    "execution": {
     "iopub.execute_input": "2022-02-04T20:54:02.849008Z",
     "iopub.status.busy": "2022-02-04T20:54:02.847968Z",
     "iopub.status.idle": "2022-02-04T20:54:04.180208Z",
     "shell.execute_reply": "2022-02-04T20:54:04.180725Z",
     "shell.execute_reply.started": "2022-02-04T20:43:37.875871Z"
    },
    "id": "608f5aea",
    "outputId": "ce439606-ebcb-489e-e391-81fd6fe5ae96",
    "papermill": {
     "duration": 1.392767,
     "end_time": "2022-02-04T20:54:04.180895",
     "exception": false,
     "start_time": "2022-02-04T20:54:02.788128",
     "status": "completed"
    },
    "tags": []
   },
   "outputs": [
    {
     "data": {
      "text/html": [
       "<div>\n",
       "<style scoped>\n",
       "    .dataframe tbody tr th:only-of-type {\n",
       "        vertical-align: middle;\n",
       "    }\n",
       "\n",
       "    .dataframe tbody tr th {\n",
       "        vertical-align: top;\n",
       "    }\n",
       "\n",
       "    .dataframe thead th {\n",
       "        text-align: right;\n",
       "    }\n",
       "</style>\n",
       "<table border=\"1\" class=\"dataframe\">\n",
       "  <thead>\n",
       "    <tr style=\"text-align: right;\">\n",
       "      <th></th>\n",
       "      <th>loan_limit</th>\n",
       "      <th>Gender</th>\n",
       "      <th>approv_in_adv</th>\n",
       "      <th>loan_type</th>\n",
       "      <th>loan_purpose</th>\n",
       "      <th>Credit_Worthiness</th>\n",
       "      <th>open_credit</th>\n",
       "      <th>business_or_commercial</th>\n",
       "      <th>loan_amount</th>\n",
       "      <th>rate_of_interest</th>\n",
       "      <th>...</th>\n",
       "      <th>lump_sum_payment</th>\n",
       "      <th>property_value</th>\n",
       "      <th>Secured_by</th>\n",
       "      <th>total_units</th>\n",
       "      <th>income</th>\n",
       "      <th>Credit_Score</th>\n",
       "      <th>age</th>\n",
       "      <th>LTV</th>\n",
       "      <th>Region</th>\n",
       "      <th>Status</th>\n",
       "    </tr>\n",
       "  </thead>\n",
       "  <tbody>\n",
       "    <tr>\n",
       "      <th>0</th>\n",
       "      <td>cf</td>\n",
       "      <td>Sex Not Available</td>\n",
       "      <td>nopre</td>\n",
       "      <td>type1</td>\n",
       "      <td>p1</td>\n",
       "      <td>l1</td>\n",
       "      <td>nopc</td>\n",
       "      <td>nob/c</td>\n",
       "      <td>116500</td>\n",
       "      <td>NaN</td>\n",
       "      <td>...</td>\n",
       "      <td>not_lpsm</td>\n",
       "      <td>118000.0</td>\n",
       "      <td>home</td>\n",
       "      <td>1U</td>\n",
       "      <td>1740.0</td>\n",
       "      <td>758</td>\n",
       "      <td>25-34</td>\n",
       "      <td>98.728814</td>\n",
       "      <td>south</td>\n",
       "      <td>1</td>\n",
       "    </tr>\n",
       "    <tr>\n",
       "      <th>1</th>\n",
       "      <td>cf</td>\n",
       "      <td>Male</td>\n",
       "      <td>nopre</td>\n",
       "      <td>type2</td>\n",
       "      <td>p1</td>\n",
       "      <td>l1</td>\n",
       "      <td>nopc</td>\n",
       "      <td>b/c</td>\n",
       "      <td>206500</td>\n",
       "      <td>NaN</td>\n",
       "      <td>...</td>\n",
       "      <td>lpsm</td>\n",
       "      <td>NaN</td>\n",
       "      <td>home</td>\n",
       "      <td>1U</td>\n",
       "      <td>4980.0</td>\n",
       "      <td>552</td>\n",
       "      <td>55-64</td>\n",
       "      <td>NaN</td>\n",
       "      <td>North</td>\n",
       "      <td>1</td>\n",
       "    </tr>\n",
       "    <tr>\n",
       "      <th>2</th>\n",
       "      <td>cf</td>\n",
       "      <td>Male</td>\n",
       "      <td>pre</td>\n",
       "      <td>type1</td>\n",
       "      <td>p1</td>\n",
       "      <td>l1</td>\n",
       "      <td>nopc</td>\n",
       "      <td>nob/c</td>\n",
       "      <td>406500</td>\n",
       "      <td>4.56</td>\n",
       "      <td>...</td>\n",
       "      <td>not_lpsm</td>\n",
       "      <td>508000.0</td>\n",
       "      <td>home</td>\n",
       "      <td>1U</td>\n",
       "      <td>9480.0</td>\n",
       "      <td>834</td>\n",
       "      <td>35-44</td>\n",
       "      <td>80.019685</td>\n",
       "      <td>south</td>\n",
       "      <td>0</td>\n",
       "    </tr>\n",
       "    <tr>\n",
       "      <th>3</th>\n",
       "      <td>cf</td>\n",
       "      <td>Male</td>\n",
       "      <td>nopre</td>\n",
       "      <td>type1</td>\n",
       "      <td>p4</td>\n",
       "      <td>l1</td>\n",
       "      <td>nopc</td>\n",
       "      <td>nob/c</td>\n",
       "      <td>456500</td>\n",
       "      <td>4.25</td>\n",
       "      <td>...</td>\n",
       "      <td>not_lpsm</td>\n",
       "      <td>658000.0</td>\n",
       "      <td>home</td>\n",
       "      <td>1U</td>\n",
       "      <td>11880.0</td>\n",
       "      <td>587</td>\n",
       "      <td>45-54</td>\n",
       "      <td>69.376900</td>\n",
       "      <td>North</td>\n",
       "      <td>0</td>\n",
       "    </tr>\n",
       "    <tr>\n",
       "      <th>4</th>\n",
       "      <td>cf</td>\n",
       "      <td>Joint</td>\n",
       "      <td>pre</td>\n",
       "      <td>type1</td>\n",
       "      <td>p1</td>\n",
       "      <td>l1</td>\n",
       "      <td>nopc</td>\n",
       "      <td>nob/c</td>\n",
       "      <td>696500</td>\n",
       "      <td>4.00</td>\n",
       "      <td>...</td>\n",
       "      <td>not_lpsm</td>\n",
       "      <td>758000.0</td>\n",
       "      <td>home</td>\n",
       "      <td>1U</td>\n",
       "      <td>10440.0</td>\n",
       "      <td>602</td>\n",
       "      <td>25-34</td>\n",
       "      <td>91.886544</td>\n",
       "      <td>North</td>\n",
       "      <td>0</td>\n",
       "    </tr>\n",
       "  </tbody>\n",
       "</table>\n",
       "<p>5 rows × 24 columns</p>\n",
       "</div>"
      ],
      "text/plain": [
       "  loan_limit             Gender approv_in_adv loan_type loan_purpose  \\\n",
       "0         cf  Sex Not Available         nopre     type1           p1   \n",
       "1         cf               Male         nopre     type2           p1   \n",
       "2         cf               Male           pre     type1           p1   \n",
       "3         cf               Male         nopre     type1           p4   \n",
       "4         cf              Joint           pre     type1           p1   \n",
       "\n",
       "  Credit_Worthiness open_credit business_or_commercial  loan_amount  \\\n",
       "0                l1        nopc                  nob/c       116500   \n",
       "1                l1        nopc                    b/c       206500   \n",
       "2                l1        nopc                  nob/c       406500   \n",
       "3                l1        nopc                  nob/c       456500   \n",
       "4                l1        nopc                  nob/c       696500   \n",
       "\n",
       "   rate_of_interest  ...  lump_sum_payment  property_value Secured_by  \\\n",
       "0               NaN  ...          not_lpsm        118000.0       home   \n",
       "1               NaN  ...              lpsm             NaN       home   \n",
       "2              4.56  ...          not_lpsm        508000.0       home   \n",
       "3              4.25  ...          not_lpsm        658000.0       home   \n",
       "4              4.00  ...          not_lpsm        758000.0       home   \n",
       "\n",
       "  total_units   income  Credit_Score    age        LTV  Region  Status  \n",
       "0          1U   1740.0           758  25-34  98.728814   south       1  \n",
       "1          1U   4980.0           552  55-64        NaN   North       1  \n",
       "2          1U   9480.0           834  35-44  80.019685   south       0  \n",
       "3          1U  11880.0           587  45-54  69.376900   North       0  \n",
       "4          1U  10440.0           602  25-34  91.886544   North       0  \n",
       "\n",
       "[5 rows x 24 columns]"
      ]
     },
     "metadata": {},
     "output_type": "display_data"
    },
    {
     "name": "stdout",
     "output_type": "stream",
     "text": [
      "The Dataset consists of 24 features & 148670 samples.\n"
     ]
    }
   ],
   "source": [
    "#Importing the dataset\n",
    "\n",
    "df = pd.read_csv('default_data.csv')\n",
    "df.drop(['ID','year'],axis=1, inplace=True)#drop the non-significant values and noise\n",
    "\n",
    "labels = ['Non-Defaulter','Defaulter']\n",
    "features = [i for i in df.columns.values if i not in ['Status']]\n",
    "\n",
    "original_df = df.copy()\n",
    "display(df.head())\n",
    "print('The Dataset consists of {} features & {} samples.'.format(df.shape[1], df.shape[0]))"
   ]
  },
  {
   "cell_type": "code",
   "execution_count": 3,
   "id": "1095d56e",
   "metadata": {
    "execution": {
     "iopub.execute_input": "2022-02-04T20:54:04.299134Z",
     "iopub.status.busy": "2022-02-04T20:54:04.298157Z",
     "iopub.status.idle": "2022-02-04T20:54:04.660168Z",
     "shell.execute_reply": "2022-02-04T20:54:04.660738Z",
     "shell.execute_reply.started": "2022-02-04T20:43:39.102121Z"
    },
    "id": "67ecc02a",
    "outputId": "01a1684f-fb0b-472d-b398-f598878dc4a5",
    "papermill": {
     "duration": 0.423834,
     "end_time": "2022-02-04T20:54:04.660911",
     "exception": false,
     "start_time": "2022-02-04T20:54:04.237077",
     "status": "completed"
    },
    "tags": []
   },
   "outputs": [
    {
     "name": "stdout",
     "output_type": "stream",
     "text": [
      "<class 'pandas.core.frame.DataFrame'>\n",
      "RangeIndex: 148670 entries, 0 to 148669\n",
      "Data columns (total 24 columns):\n",
      " #   Column                  Non-Null Count   Dtype  \n",
      "---  ------                  --------------   -----  \n",
      " 0   loan_limit              145326 non-null  object \n",
      " 1   Gender                  148670 non-null  object \n",
      " 2   approv_in_adv           147762 non-null  object \n",
      " 3   loan_type               148670 non-null  object \n",
      " 4   loan_purpose            148536 non-null  object \n",
      " 5   Credit_Worthiness       148670 non-null  object \n",
      " 6   open_credit             148670 non-null  object \n",
      " 7   business_or_commercial  148670 non-null  object \n",
      " 8   loan_amount             148670 non-null  int64  \n",
      " 9   rate_of_interest        112231 non-null  float64\n",
      " 10  Upfront_charges         109028 non-null  float64\n",
      " 11  term                    148629 non-null  float64\n",
      " 12  Neg_ammortization       148549 non-null  object \n",
      " 13  interest_only           148670 non-null  object \n",
      " 14  lump_sum_payment        148670 non-null  object \n",
      " 15  property_value          133572 non-null  float64\n",
      " 16  Secured_by              148670 non-null  object \n",
      " 17  total_units             148670 non-null  object \n",
      " 18  income                  139520 non-null  float64\n",
      " 19  Credit_Score            148670 non-null  int64  \n",
      " 20  age                     148470 non-null  object \n",
      " 21  LTV                     133572 non-null  float64\n",
      " 22  Region                  148670 non-null  object \n",
      " 23  Status                  148670 non-null  int64  \n",
      "dtypes: float64(6), int64(3), object(15)\n",
      "memory usage: 27.2+ MB\n"
     ]
    }
   ],
   "source": [
    "#Checking the dtypes of all the columns\n",
    "df.info()"
   ]
  },
  {
   "cell_type": "code",
   "execution_count": 4,
   "id": "b8d3bfdc",
   "metadata": {
    "execution": {
     "iopub.execute_input": "2022-02-04T20:54:04.784406Z",
     "iopub.status.busy": "2022-02-04T20:54:04.783734Z",
     "iopub.status.idle": "2022-02-04T20:54:05.072590Z",
     "shell.execute_reply": "2022-02-04T20:54:05.071703Z",
     "shell.execute_reply.started": "2022-02-04T20:43:40.555282Z"
    },
    "id": "e72cd720",
    "outputId": "060ec210-88f7-4a6c-f96f-4e8fb960743d",
    "papermill": {
     "duration": 0.35577,
     "end_time": "2022-02-04T20:54:05.072796",
     "exception": false,
     "start_time": "2022-02-04T20:54:04.717026",
     "status": "completed"
    },
    "tags": []
   },
   "outputs": [
    {
     "data": {
      "text/plain": [
       "loan_limit                    2\n",
       "Secured_by                    2\n",
       "lump_sum_payment              2\n",
       "interest_only                 2\n",
       "Neg_ammortization             2\n",
       "business_or_commercial        2\n",
       "Status                        2\n",
       "Credit_Worthiness             2\n",
       "approv_in_adv                 2\n",
       "open_credit                   2\n",
       "loan_type                     3\n",
       "total_units                   4\n",
       "Gender                        4\n",
       "Region                        4\n",
       "loan_purpose                  4\n",
       "age                           7\n",
       "term                         26\n",
       "rate_of_interest            131\n",
       "loan_amount                 211\n",
       "property_value              385\n",
       "Credit_Score                401\n",
       "income                     1001\n",
       "LTV                        8484\n",
       "Upfront_charges           58271\n",
       "dtype: int64"
      ]
     },
     "execution_count": 4,
     "metadata": {},
     "output_type": "execute_result"
    }
   ],
   "source": [
    "#Checking number of unique rows in each feature\n",
    "df.nunique().sort_values()"
   ]
  },
  {
   "cell_type": "code",
   "execution_count": 5,
   "id": "280469b1",
   "metadata": {},
   "outputs": [
    {
     "name": "stdout",
     "output_type": "stream",
     "text": [
      "The Dtype Of Dataset: The Datset has 8 numerical & 15 categorical features.\n"
     ]
    }
   ],
   "source": [
    "num_f = []; cat_f = []; #numerical & categorical features\n",
    "for i in features:\n",
    "    if df[i].dtype!=object:\n",
    "        num_f.append(i)\n",
    "    else:\n",
    "        cat_f.append(i)\n",
    "print('The Dtype Of Dataset: The Datset has {} numerical & {} categorical features.'.format(len(num_f),len(cat_f)))        "
   ]
  },
  {
   "cell_type": "code",
   "execution_count": 6,
   "id": "252631d2",
   "metadata": {},
   "outputs": [
    {
     "name": "stdout",
     "output_type": "stream",
     "text": [
      "numerical features-->                   0\n",
      "0       loan_amount\n",
      "1  rate_of_interest\n",
      "2   Upfront_charges\n",
      "3              term\n",
      "4    property_value\n",
      "5            income\n",
      "6      Credit_Score\n",
      "7               LTV\n",
      "\n",
      "categorical features-->                          0\n",
      "0               loan_limit\n",
      "1                   Gender\n",
      "2            approv_in_adv\n",
      "3                loan_type\n",
      "4             loan_purpose\n",
      "5        Credit_Worthiness\n",
      "6              open_credit\n",
      "7   business_or_commercial\n",
      "8        Neg_ammortization\n",
      "9            interest_only\n",
      "10        lump_sum_payment\n",
      "11              Secured_by\n",
      "12             total_units\n",
      "13                     age\n",
      "14                  Region\n"
     ]
    }
   ],
   "source": [
    "#Checking the numerical value list and categorical value list\n",
    "print('numerical features-->',pd.DataFrame(num_f))\n",
    "print('\\ncategorical features-->',pd.DataFrame(cat_f))"
   ]
  },
  {
   "cell_type": "code",
   "execution_count": 7,
   "id": "a4f71309",
   "metadata": {
    "execution": {
     "iopub.execute_input": "2022-02-04T20:54:05.681690Z",
     "iopub.status.busy": "2022-02-04T20:54:05.681003Z",
     "iopub.status.idle": "2022-02-04T20:54:05.794988Z",
     "shell.execute_reply": "2022-02-04T20:54:05.794368Z",
     "shell.execute_reply.started": "2022-02-04T20:43:41.049497Z"
    },
    "id": "1f2b3ecc",
    "outputId": "0f6ac2da-32e2-4b4c-e88d-741c9b4574a6",
    "papermill": {
     "duration": 0.178243,
     "end_time": "2022-02-04T20:54:05.795128",
     "exception": false,
     "start_time": "2022-02-04T20:54:05.616885",
     "status": "completed"
    },
    "tags": []
   },
   "outputs": [
    {
     "data": {
      "text/html": [
       "<div>\n",
       "<style scoped>\n",
       "    .dataframe tbody tr th:only-of-type {\n",
       "        vertical-align: middle;\n",
       "    }\n",
       "\n",
       "    .dataframe tbody tr th {\n",
       "        vertical-align: top;\n",
       "    }\n",
       "\n",
       "    .dataframe thead th {\n",
       "        text-align: right;\n",
       "    }\n",
       "</style>\n",
       "<table border=\"1\" class=\"dataframe\">\n",
       "  <thead>\n",
       "    <tr style=\"text-align: right;\">\n",
       "      <th></th>\n",
       "      <th>loan_amount</th>\n",
       "      <th>rate_of_interest</th>\n",
       "      <th>Upfront_charges</th>\n",
       "      <th>term</th>\n",
       "      <th>property_value</th>\n",
       "      <th>income</th>\n",
       "      <th>Credit_Score</th>\n",
       "      <th>LTV</th>\n",
       "      <th>Status</th>\n",
       "    </tr>\n",
       "  </thead>\n",
       "  <tbody>\n",
       "    <tr>\n",
       "      <th>count</th>\n",
       "      <td>1.486700e+05</td>\n",
       "      <td>112231.000000</td>\n",
       "      <td>109028.000000</td>\n",
       "      <td>148629.000000</td>\n",
       "      <td>1.335720e+05</td>\n",
       "      <td>139520.000000</td>\n",
       "      <td>148670.000000</td>\n",
       "      <td>133572.000000</td>\n",
       "      <td>148670.000000</td>\n",
       "    </tr>\n",
       "    <tr>\n",
       "      <th>mean</th>\n",
       "      <td>3.311177e+05</td>\n",
       "      <td>4.045476</td>\n",
       "      <td>3224.996127</td>\n",
       "      <td>335.136582</td>\n",
       "      <td>4.978935e+05</td>\n",
       "      <td>6957.338876</td>\n",
       "      <td>699.789103</td>\n",
       "      <td>72.746457</td>\n",
       "      <td>0.246445</td>\n",
       "    </tr>\n",
       "    <tr>\n",
       "      <th>std</th>\n",
       "      <td>1.839093e+05</td>\n",
       "      <td>0.561391</td>\n",
       "      <td>3251.121510</td>\n",
       "      <td>58.409084</td>\n",
       "      <td>3.599353e+05</td>\n",
       "      <td>6496.586382</td>\n",
       "      <td>115.875857</td>\n",
       "      <td>39.967603</td>\n",
       "      <td>0.430942</td>\n",
       "    </tr>\n",
       "    <tr>\n",
       "      <th>min</th>\n",
       "      <td>1.650000e+04</td>\n",
       "      <td>0.000000</td>\n",
       "      <td>0.000000</td>\n",
       "      <td>96.000000</td>\n",
       "      <td>8.000000e+03</td>\n",
       "      <td>0.000000</td>\n",
       "      <td>500.000000</td>\n",
       "      <td>0.967478</td>\n",
       "      <td>0.000000</td>\n",
       "    </tr>\n",
       "    <tr>\n",
       "      <th>25%</th>\n",
       "      <td>1.965000e+05</td>\n",
       "      <td>3.625000</td>\n",
       "      <td>581.490000</td>\n",
       "      <td>360.000000</td>\n",
       "      <td>2.680000e+05</td>\n",
       "      <td>3720.000000</td>\n",
       "      <td>599.000000</td>\n",
       "      <td>60.474860</td>\n",
       "      <td>0.000000</td>\n",
       "    </tr>\n",
       "    <tr>\n",
       "      <th>50%</th>\n",
       "      <td>2.965000e+05</td>\n",
       "      <td>3.990000</td>\n",
       "      <td>2596.450000</td>\n",
       "      <td>360.000000</td>\n",
       "      <td>4.180000e+05</td>\n",
       "      <td>5760.000000</td>\n",
       "      <td>699.000000</td>\n",
       "      <td>75.135870</td>\n",
       "      <td>0.000000</td>\n",
       "    </tr>\n",
       "    <tr>\n",
       "      <th>75%</th>\n",
       "      <td>4.365000e+05</td>\n",
       "      <td>4.375000</td>\n",
       "      <td>4812.500000</td>\n",
       "      <td>360.000000</td>\n",
       "      <td>6.280000e+05</td>\n",
       "      <td>8520.000000</td>\n",
       "      <td>800.000000</td>\n",
       "      <td>86.184211</td>\n",
       "      <td>0.000000</td>\n",
       "    </tr>\n",
       "    <tr>\n",
       "      <th>max</th>\n",
       "      <td>3.576500e+06</td>\n",
       "      <td>8.000000</td>\n",
       "      <td>60000.000000</td>\n",
       "      <td>360.000000</td>\n",
       "      <td>1.650800e+07</td>\n",
       "      <td>578580.000000</td>\n",
       "      <td>900.000000</td>\n",
       "      <td>7831.250000</td>\n",
       "      <td>1.000000</td>\n",
       "    </tr>\n",
       "  </tbody>\n",
       "</table>\n",
       "</div>"
      ],
      "text/plain": [
       "        loan_amount  rate_of_interest  Upfront_charges           term  \\\n",
       "count  1.486700e+05     112231.000000    109028.000000  148629.000000   \n",
       "mean   3.311177e+05          4.045476      3224.996127     335.136582   \n",
       "std    1.839093e+05          0.561391      3251.121510      58.409084   \n",
       "min    1.650000e+04          0.000000         0.000000      96.000000   \n",
       "25%    1.965000e+05          3.625000       581.490000     360.000000   \n",
       "50%    2.965000e+05          3.990000      2596.450000     360.000000   \n",
       "75%    4.365000e+05          4.375000      4812.500000     360.000000   \n",
       "max    3.576500e+06          8.000000     60000.000000     360.000000   \n",
       "\n",
       "       property_value         income   Credit_Score            LTV  \\\n",
       "count    1.335720e+05  139520.000000  148670.000000  133572.000000   \n",
       "mean     4.978935e+05    6957.338876     699.789103      72.746457   \n",
       "std      3.599353e+05    6496.586382     115.875857      39.967603   \n",
       "min      8.000000e+03       0.000000     500.000000       0.967478   \n",
       "25%      2.680000e+05    3720.000000     599.000000      60.474860   \n",
       "50%      4.180000e+05    5760.000000     699.000000      75.135870   \n",
       "75%      6.280000e+05    8520.000000     800.000000      86.184211   \n",
       "max      1.650800e+07  578580.000000     900.000000    7831.250000   \n",
       "\n",
       "              Status  \n",
       "count  148670.000000  \n",
       "mean        0.246445  \n",
       "std         0.430942  \n",
       "min         0.000000  \n",
       "25%         0.000000  \n",
       "50%         0.000000  \n",
       "75%         0.000000  \n",
       "max         1.000000  "
      ]
     },
     "execution_count": 7,
     "metadata": {},
     "output_type": "execute_result"
    }
   ],
   "source": [
    "#Checking the stats of all the columns\n",
    "df.describe()"
   ]
  },
  {
   "cell_type": "markdown",
   "id": "c6813601",
   "metadata": {
    "id": "7c785e92",
    "papermill": {
     "duration": 0.059832,
     "end_time": "2022-02-04T20:54:05.915358",
     "exception": false,
     "start_time": "2022-02-04T20:54:05.855526",
     "status": "completed"
    },
    "tags": []
   },
   "source": [
    "**Inference:** The stats seem to be fine, let us gain more undestanding by visualising the dataset."
   ]
  },
  {
   "cell_type": "markdown",
   "id": "4334116d",
   "metadata": {
    "id": "ada9e209",
    "papermill": {
     "duration": 0.058626,
     "end_time": "2022-02-04T20:54:06.033749",
     "exception": false,
     "start_time": "2022-02-04T20:54:05.975123",
     "status": "completed"
    },
    "tags": []
   },
   "source": [
    "---"
   ]
  },
  {
   "cell_type": "markdown",
   "id": "adb62ffb",
   "metadata": {
    "id": "fdf33033",
    "papermill": {
     "duration": 0.059058,
     "end_time": "2022-02-04T20:54:06.151408",
     "exception": false,
     "start_time": "2022-02-04T20:54:06.092350",
     "status": "completed"
    },
    "tags": []
   },
   "source": [
    "# <center> 2. Exploratory Data Analysis (EDA)"
   ]
  },
  {
   "cell_type": "code",
   "execution_count": 8,
   "id": "907f7f05",
   "metadata": {},
   "outputs": [
    {
     "name": "stdout",
     "output_type": "stream",
     "text": [
      "0    112031\n",
      "1     36639\n",
      "Name: Status, dtype: int64\n"
     ]
    },
    {
     "data": {
      "image/png": "[encoded data removed]",
      "text/plain": [
       "<Figure size 720x432 with 1 Axes>"
      ]
     },
     "metadata": {
      "needs_background": "light"
     },
     "output_type": "display_data"
    },
    {
     "name": "stdout",
     "output_type": "stream",
     "text": [
      "\u001b[1mThe value Not_default' ———> 0.7535548530302011 of the lables sample\n",
      "\n",
      "\u001b[1mThe value 'Default' ———> 0.24644514696979888 of the lables sample\n"
     ]
    }
   ],
   "source": [
    "labels_shape = df['Status'].value_counts()\n",
    "print(labels_shape)\n",
    "\n",
    "def label_value_distribution(labels_shape):\n",
    "    plt.bar(labels,labels_shape,width = 0.4,align='center',color = 'royalblue',alpha=0.9)\n",
    "    for a,b in zip(labels,labels_shape):\n",
    "            plt.text(a, b+0.05, '%.1f' % b, ha='center', va= 'bottom',fontsize=10)\n",
    "    plt.title('Data distribution of label values')\n",
    "    plt.show()\n",
    "    print(\"\\033[1mThe value Not_default' ———> \" + str(labels_shape[0]/df.shape[0])+\" of the lables sample\")\n",
    "    print(\"\\n\\033[1mThe value 'Default' ———> \" + str(labels_shape[1]/df.shape[0])+\" of the lables sample\")\n",
    "    \n",
    "label_value_distribution(labels_shape)"
   ]
  },
  {
   "cell_type": "markdown",
   "id": "606cfeb8",
   "metadata": {
    "id": "f55ea687",
    "papermill": {
     "duration": 0.062997,
     "end_time": "2022-02-04T20:54:06.749644",
     "exception": false,
     "start_time": "2022-02-04T20:54:06.686647",
     "status": "completed"
    },
    "tags": []
   },
   "source": [
    "**Inference:** The Target Variable seems to be slightly imbalanced! Hence shall try to perform data augmentation."
   ]
  },
  {
   "cell_type": "code",
   "execution_count": 9,
   "id": "e7f6184a",
   "metadata": {
    "execution": {
     "iopub.execute_input": "2022-02-04T20:54:06.905427Z",
     "iopub.status.busy": "2022-02-04T20:54:06.904633Z",
     "iopub.status.idle": "2022-02-04T20:54:13.470886Z",
     "shell.execute_reply": "2022-02-04T20:54:13.471444Z",
     "shell.execute_reply.started": "2022-01-29T16:16:39.603871Z"
    },
    "id": "39ea3286",
    "outputId": "86fbc7ec-c956-4846-a19a-4f8f1dbcf478",
    "papermill": {
     "duration": 6.653388,
     "end_time": "2022-02-04T20:54:13.471638",
     "exception": false,
     "start_time": "2022-02-04T20:54:06.818250",
     "status": "completed"
    },
    "tags": []
   },
   "outputs": [
    {
     "name": "stdout",
     "output_type": "stream",
     "text": [
      "                                           Visualising Categorical Features:                                            \n"
     ]
    },
    {
     "data": {
      "image/png": "[encoded data removed]",
      "text/plain": [
       "<Figure size 1080x1080 with 15 Axes>"
      ]
     },
     "metadata": {
      "needs_background": "light"
     },
     "output_type": "display_data"
    }
   ],
   "source": [
    "#Visualising the categorical features \n",
    "\n",
    "print('Visualising Categorical Features:'.center(120))\n",
    "\n",
    "n=3\n",
    "plt.figure(figsize=[15,3*math.ceil(len(cat_f)/n)])\n",
    "\n",
    "for i in range(len(cat_f)):\n",
    "    if df[cat_f[i]].nunique()<=12:\n",
    "        plt.subplot(math.ceil(len(cat_f)/n),n,i+1)\n",
    "        sns.countplot(df[cat_f[i]])\n",
    "    else:\n",
    "        plt.subplot(3,1,i-1)\n",
    "        sns.countplot(df[cat_f[i]])\n",
    "plt.tight_layout()\n",
    "plt.show()"
   ]
  },
  {
   "cell_type": "markdown",
   "id": "09ef269c",
   "metadata": {
    "id": "91d5f4f0",
    "papermill": {
     "duration": 0.064812,
     "end_time": "2022-02-04T20:54:13.602775",
     "exception": false,
     "start_time": "2022-02-04T20:54:13.537963",
     "status": "completed"
    },
    "tags": []
   },
   "source": [
    "**Inference:** Visualizing the categorical features reveal lot of information about the dataset."
   ]
  },
  {
   "cell_type": "code",
   "execution_count": 10,
   "id": "56a19914",
   "metadata": {
    "execution": {
     "iopub.execute_input": "2022-02-04T20:54:13.732585Z",
     "iopub.status.busy": "2022-02-04T20:54:13.731565Z",
     "iopub.status.idle": "2022-02-04T20:54:25.715213Z",
     "shell.execute_reply": "2022-02-04T20:54:25.715740Z",
     "shell.execute_reply.started": "2022-01-29T16:16:43.868076Z"
    },
    "id": "3120759d",
    "outputId": "87a560f1-0a37-484e-9c9f-1ae91a34d445",
    "papermill": {
     "duration": 12.050772,
     "end_time": "2022-02-04T20:54:25.715918",
     "exception": false,
     "start_time": "2022-02-04T20:54:13.665146",
     "status": "completed"
    },
    "tags": []
   },
   "outputs": [
    {
     "name": "stdout",
     "output_type": "stream",
     "text": [
      "                                                    Features Distribution                                                    \n"
     ]
    },
    {
     "data": {
      "image/png": "[encoded data removed]",
      "text/plain": [
       "<Figure size 1080x1728 with 8 Axes>"
      ]
     },
     "metadata": {
      "needs_background": "light"
     },
     "output_type": "display_data"
    }
   ],
   "source": [
    "#Understanding the feature set\n",
    "\n",
    "print('Features Distribution'.center(125))\n",
    "\n",
    "plt.figure(figsize=[15,3*math.ceil(len(features)/3)])\n",
    "for i in range(len(num_f)):\n",
    "    plt.subplot(math.ceil(len(features)/3),3,i+1)\n",
    "    sns.distplot(df[num_f[i]])\n",
    "plt.tight_layout()\n",
    "plt.show()"
   ]
  },
  {
   "cell_type": "markdown",
   "id": "dfefaafa",
   "metadata": {
    "id": "b2a2d578",
    "papermill": {
     "duration": 0.076504,
     "end_time": "2022-02-04T20:54:25.863855",
     "exception": false,
     "start_time": "2022-02-04T20:54:25.787351",
     "status": "completed"
    },
    "tags": []
   },
   "source": [
    "**Inference:** The data is somewhat normally distributed. And there are many outliers present in the dataset. need fix these outliers.."
   ]
  },
  {
   "cell_type": "markdown",
   "id": "2e1071a5",
   "metadata": {
    "id": "3f837e24",
    "papermill": {
     "duration": 0.072189,
     "end_time": "2022-02-04T20:54:26.290227",
     "exception": false,
     "start_time": "2022-02-04T20:54:26.218038",
     "status": "completed"
    },
    "tags": []
   },
   "source": [
    "---"
   ]
  },
  {
   "cell_type": "markdown",
   "id": "1e965736",
   "metadata": {
    "id": "6f3612c2",
    "papermill": {
     "duration": 0.070932,
     "end_time": "2022-02-04T20:54:26.431167",
     "exception": false,
     "start_time": "2022-02-04T20:54:26.360235",
     "status": "completed"
    },
    "tags": []
   },
   "source": [
    "# <center> 3. Data Preprocessing"
   ]
  },
  {
   "cell_type": "code",
   "execution_count": 11,
   "id": "5d789739",
   "metadata": {},
   "outputs": [
    {
     "data": {
      "text/plain": [
       "False    148669\n",
       "True          1\n",
       "dtype: int64"
      ]
     },
     "metadata": {},
     "output_type": "display_data"
    }
   ],
   "source": [
    "# Removal of any Duplicate rows (if any)\n",
    "df_2 = df.copy()\n",
    "df_2.drop_duplicates(inplace=True)\n",
    "df_2.reset_index(drop=True,inplace=True)\n",
    "# checking is there any duplicates in the features\n",
    "display(df.duplicated(features).value_counts())"
   ]
  },
  {
   "cell_type": "code",
   "execution_count": 12,
   "id": "0401b59f",
   "metadata": {
    "execution": {
     "iopub.execute_input": "2022-02-04T20:54:27.504530Z",
     "iopub.status.busy": "2022-02-04T20:54:27.503796Z",
     "iopub.status.idle": "2022-02-04T20:54:27.521996Z",
     "shell.execute_reply": "2022-02-04T20:54:27.521447Z",
     "shell.execute_reply.started": "2022-02-04T20:43:52.898302Z"
    },
    "id": "4ce5947e",
    "outputId": "eee2826d-0990-4dcf-c4e8-c25d3db6eb51",
    "papermill": {
     "duration": 0.427473,
     "end_time": "2022-02-04T20:54:27.522158",
     "exception": false,
     "start_time": "2022-02-04T20:54:27.094685",
     "status": "completed"
    },
    "tags": []
   },
   "outputs": [
    {
     "name": "stdout",
     "output_type": "stream",
     "text": [
      "                        Total Null Values  Percentage\n",
      "Status                                  0         0.0\n",
      "Gender                                  0         0.0\n",
      "Credit_Score                            0         0.0\n",
      "loan_type                               0         0.0\n",
      "total_units                             0         0.0\n",
      "Credit_Worthiness                       0         0.0\n",
      "open_credit                             0         0.0\n",
      "business_or_commercial                  0         0.0\n",
      "loan_amount                             0         0.0\n",
      "Secured_by                              0         0.0\n",
      "lump_sum_payment                        0         0.0\n",
      "Region                                  0         0.0\n",
      "interest_only                           0         0.0\n",
      "term                                   41         0.0\n",
      "Neg_ammortization                     121         0.1\n",
      "loan_purpose                          134         0.1\n",
      "age                                   200         0.1\n",
      "approv_in_adv                         908         0.6\n",
      "loan_limit                           3344         2.2\n",
      "income                               9149         6.2\n",
      "property_value                      15098        10.2\n",
      "LTV                                 15098        10.2\n",
      "rate_of_interest                    36439        24.5\n",
      "Upfront_charges                     39642        26.7\n"
     ]
    }
   ],
   "source": [
    "#Check for empty elements\n",
    "\n",
    "null_values = pd.DataFrame(df_2.isnull().sum().sort_values(), columns=['Total Null Values'])\n",
    "null_values['Percentage'] = round(null_values['Total Null Values']/df_2.shape[0],3)*100\n",
    "print(null_values)"
   ]
  },
  {
   "cell_type": "markdown",
   "id": "fb991f06",
   "metadata": {
    "papermill": {
     "duration": 0.069055,
     "end_time": "2022-02-04T20:54:27.662395",
     "exception": false,
     "start_time": "2022-02-04T20:54:27.593340",
     "status": "completed"
    },
    "tags": []
   },
   "source": [
    "**Inference:** There are many outliers in the dataset. Let us try to impute the missing values"
   ]
  },
  {
   "cell_type": "code",
   "execution_count": 13,
   "id": "33d8735e",
   "metadata": {},
   "outputs": [],
   "source": [
    "for i in features:\n",
    "    if df[i].dtype!=object:\n",
    "        df[i].fillna(df[i].mean(),inplace=True)\n",
    "    else:\n",
    "        df[i].fillna(df[i].mode()[0],inplace=True)\n",
    "        # because the most_frequent may have multiple values so use the frist one"
   ]
  },
  {
   "cell_type": "code",
   "execution_count": 13,
   "id": "a900ca78",
   "metadata": {
    "execution": {
     "iopub.execute_input": "2022-02-04T20:54:27.808904Z",
     "iopub.status.busy": "2022-02-04T20:54:27.808059Z",
     "iopub.status.idle": "2022-02-04T20:55:20.466264Z",
     "shell.execute_reply": "2022-02-04T20:55:20.465600Z",
     "shell.execute_reply.started": "2022-02-04T20:43:53.763464Z"
    },
    "papermill": {
     "duration": 52.735319,
     "end_time": "2022-02-04T20:55:20.466418",
     "exception": false,
     "start_time": "2022-02-04T20:54:27.731099",
     "status": "completed"
    },
    "tags": []
   },
   "outputs": [],
   "source": [
    "# Useing API method:\n",
    "# for i in num_f:\n",
    "#     SI = SimpleImputer(strategy='mean')\n",
    "#     df[i] = SI.fit_transform(df[[i]])\n",
    "    \n",
    "# for i in cat_f:\n",
    "#     SI = SimpleImputer(strategy='most_frequent')\n",
    "#     df[i] = SI.fit_transform(df[[i]])"
   ]
  },
  {
   "cell_type": "code",
   "execution_count": 14,
   "id": "fa0d8938",
   "metadata": {},
   "outputs": [
    {
     "name": "stdout",
     "output_type": "stream",
     "text": [
      "<class 'pandas.core.frame.DataFrame'>\n",
      "RangeIndex: 148670 entries, 0 to 148669\n",
      "Data columns (total 24 columns):\n",
      " #   Column                  Non-Null Count   Dtype  \n",
      "---  ------                  --------------   -----  \n",
      " 0   loan_limit              148670 non-null  object \n",
      " 1   Gender                  148670 non-null  object \n",
      " 2   approv_in_adv           148670 non-null  object \n",
      " 3   loan_type               148670 non-null  object \n",
      " 4   loan_purpose            148670 non-null  object \n",
      " 5   Credit_Worthiness       148670 non-null  object \n",
      " 6   open_credit             148670 non-null  object \n",
      " 7   business_or_commercial  148670 non-null  object \n",
      " 8   loan_amount             148670 non-null  int64  \n",
      " 9   rate_of_interest        148670 non-null  float64\n",
      " 10  Upfront_charges         148670 non-null  float64\n",
      " 11  term                    148670 non-null  float64\n",
      " 12  Neg_ammortization       148670 non-null  object \n",
      " 13  interest_only           148670 non-null  object \n",
      " 14  lump_sum_payment        148670 non-null  object \n",
      " 15  property_value          148670 non-null  float64\n",
      " 16  Secured_by              148670 non-null  object \n",
      " 17  total_units             148670 non-null  object \n",
      " 18  income                  148670 non-null  float64\n",
      " 19  Credit_Score            148670 non-null  int64  \n",
      " 20  age                     148670 non-null  object \n",
      " 21  LTV                     148670 non-null  float64\n",
      " 22  Region                  148670 non-null  object \n",
      " 23  Status                  148670 non-null  int64  \n",
      "dtypes: float64(6), int64(3), object(15)\n",
      "memory usage: 27.2+ MB\n"
     ]
    }
   ],
   "source": [
    "# checking is there still any null values\n",
    "df.info()"
   ]
  },
  {
   "cell_type": "code",
   "execution_count": 15,
   "id": "c60f8cb4",
   "metadata": {
    "execution": {
     "iopub.execute_input": "2022-02-04T20:55:20.620220Z",
     "iopub.status.busy": "2022-02-04T20:55:20.619509Z",
     "iopub.status.idle": "2022-02-04T20:55:21.405675Z",
     "shell.execute_reply": "2022-02-04T20:55:21.406177Z",
     "shell.execute_reply.started": "2022-02-04T20:44:46.902884Z"
    },
    "papermill": {
     "duration": 0.867707,
     "end_time": "2022-02-04T20:55:21.406342",
     "exception": false,
     "start_time": "2022-02-04T20:55:20.538635",
     "status": "completed"
    },
    "tags": []
   },
   "outputs": [
    {
     "name": "stdout",
     "output_type": "stream",
     "text": [
      "Mapping Target variable : {1: 0, 0: 1}\n",
      "\n",
      "Dummy Encoding on features:\n",
      "Gender\n",
      "loan_type\n",
      "\n",
      "One-Hot Encoding on features:\n",
      "Credit_Worthiness\n",
      "open_credit\n",
      "business_or_commercial\n",
      "interest_only\n",
      "lump_sum_payment\n",
      "Secured_by\n",
      "total_units\n",
      "Region\n"
     ]
    }
   ],
   "source": [
    "#Converting categorical Columns to Numeric\n",
    "\n",
    "df_con = df.copy()\n",
    "ecc = null_values[null_values['Percentage']!=0].index.values\n",
    "dcc = [i for i in df.columns if i not in ecc]\n",
    "\n",
    "#Target Variable\n",
    "Map={}\n",
    "for i,x in enumerate(df_con['Status'].unique()):\n",
    "    Map[x]=i\n",
    "df_con['Status']=df_con['Status'].map(Map)\n",
    "print('Mapping Target variable :',Map)\n",
    "\n",
    "df_3 = df_con[dcc]\n",
    "fcc = [i for i in cat_f if i not in ecc]\n",
    "\n",
    "#One-Hot Binay Encoding\n",
    "oh=True ;dm=True\n",
    "for i in fcc:\n",
    "    #print(i)\n",
    "    if df_3[i].nunique()==2:\n",
    "        if oh==True: print(\"\\nOne-Hot Encoding on features:\")\n",
    "        print(i);oh=False\n",
    "        df_3[i]=pd.get_dummies(df_3[i], drop_first=True, prefix=str(i))\n",
    "    if (df_3[i].nunique()>2 and df_3[i].nunique()<17):\n",
    "        if dm==True: print(\"\\nDummy Encoding on features:\")\n",
    "        print(i);dm=False\n",
    "        df_3 = pd.concat([df_3.drop([i], axis=1), pd.DataFrame(pd.get_dummies(df_3[i], drop_first=True, prefix=str(i)))],axis=1)\n"
   ]
  },
  {
   "cell_type": "code",
   "execution_count": 16,
   "id": "e15e97e3",
   "metadata": {
    "execution": {
     "iopub.execute_input": "2022-02-04T20:55:21.558325Z",
     "iopub.status.busy": "2022-02-04T20:55:21.557418Z",
     "iopub.status.idle": "2022-02-04T20:55:21.781421Z",
     "shell.execute_reply": "2022-02-04T20:55:21.780842Z",
     "shell.execute_reply.started": "2022-02-04T20:44:47.637883Z"
    },
    "id": "65b4c8b5",
    "outputId": "5a40039b-f559-4ec6-812b-d425f6b268bc",
    "papermill": {
     "duration": 0.303492,
     "end_time": "2022-02-04T20:55:21.781568",
     "exception": false,
     "start_time": "2022-02-04T20:55:21.478076",
     "status": "completed"
    },
    "tags": []
   },
   "outputs": [
    {
     "data": {
      "text/html": [
       "<div>\n",
       "<style scoped>\n",
       "    .dataframe tbody tr th:only-of-type {\n",
       "        vertical-align: middle;\n",
       "    }\n",
       "\n",
       "    .dataframe tbody tr th {\n",
       "        vertical-align: top;\n",
       "    }\n",
       "\n",
       "    .dataframe thead th {\n",
       "        text-align: right;\n",
       "    }\n",
       "</style>\n",
       "<table border=\"1\" class=\"dataframe\">\n",
       "  <thead>\n",
       "    <tr style=\"text-align: right;\">\n",
       "      <th></th>\n",
       "      <th>Credit_Worthiness</th>\n",
       "      <th>open_credit</th>\n",
       "      <th>business_or_commercial</th>\n",
       "      <th>loan_amount</th>\n",
       "      <th>term</th>\n",
       "      <th>interest_only</th>\n",
       "      <th>lump_sum_payment</th>\n",
       "      <th>Secured_by</th>\n",
       "      <th>Credit_Score</th>\n",
       "      <th>Status</th>\n",
       "      <th>...</th>\n",
       "      <th>Gender_Male</th>\n",
       "      <th>Gender_Sex Not Available</th>\n",
       "      <th>loan_type_type2</th>\n",
       "      <th>loan_type_type3</th>\n",
       "      <th>total_units_2U</th>\n",
       "      <th>total_units_3U</th>\n",
       "      <th>total_units_4U</th>\n",
       "      <th>Region_North-East</th>\n",
       "      <th>Region_central</th>\n",
       "      <th>Region_south</th>\n",
       "    </tr>\n",
       "  </thead>\n",
       "  <tbody>\n",
       "    <tr>\n",
       "      <th>0</th>\n",
       "      <td>0</td>\n",
       "      <td>0</td>\n",
       "      <td>1</td>\n",
       "      <td>116500</td>\n",
       "      <td>360.0</td>\n",
       "      <td>1</td>\n",
       "      <td>1</td>\n",
       "      <td>0</td>\n",
       "      <td>758</td>\n",
       "      <td>0</td>\n",
       "      <td>...</td>\n",
       "      <td>0</td>\n",
       "      <td>1</td>\n",
       "      <td>0</td>\n",
       "      <td>0</td>\n",
       "      <td>0</td>\n",
       "      <td>0</td>\n",
       "      <td>0</td>\n",
       "      <td>0</td>\n",
       "      <td>0</td>\n",
       "      <td>1</td>\n",
       "    </tr>\n",
       "    <tr>\n",
       "      <th>1</th>\n",
       "      <td>0</td>\n",
       "      <td>0</td>\n",
       "      <td>0</td>\n",
       "      <td>206500</td>\n",
       "      <td>360.0</td>\n",
       "      <td>1</td>\n",
       "      <td>0</td>\n",
       "      <td>0</td>\n",
       "      <td>552</td>\n",
       "      <td>0</td>\n",
       "      <td>...</td>\n",
       "      <td>1</td>\n",
       "      <td>0</td>\n",
       "      <td>1</td>\n",
       "      <td>0</td>\n",
       "      <td>0</td>\n",
       "      <td>0</td>\n",
       "      <td>0</td>\n",
       "      <td>0</td>\n",
       "      <td>0</td>\n",
       "      <td>0</td>\n",
       "    </tr>\n",
       "    <tr>\n",
       "      <th>2</th>\n",
       "      <td>0</td>\n",
       "      <td>0</td>\n",
       "      <td>1</td>\n",
       "      <td>406500</td>\n",
       "      <td>360.0</td>\n",
       "      <td>1</td>\n",
       "      <td>1</td>\n",
       "      <td>0</td>\n",
       "      <td>834</td>\n",
       "      <td>1</td>\n",
       "      <td>...</td>\n",
       "      <td>1</td>\n",
       "      <td>0</td>\n",
       "      <td>0</td>\n",
       "      <td>0</td>\n",
       "      <td>0</td>\n",
       "      <td>0</td>\n",
       "      <td>0</td>\n",
       "      <td>0</td>\n",
       "      <td>0</td>\n",
       "      <td>1</td>\n",
       "    </tr>\n",
       "    <tr>\n",
       "      <th>3</th>\n",
       "      <td>0</td>\n",
       "      <td>0</td>\n",
       "      <td>1</td>\n",
       "      <td>456500</td>\n",
       "      <td>360.0</td>\n",
       "      <td>1</td>\n",
       "      <td>1</td>\n",
       "      <td>0</td>\n",
       "      <td>587</td>\n",
       "      <td>1</td>\n",
       "      <td>...</td>\n",
       "      <td>1</td>\n",
       "      <td>0</td>\n",
       "      <td>0</td>\n",
       "      <td>0</td>\n",
       "      <td>0</td>\n",
       "      <td>0</td>\n",
       "      <td>0</td>\n",
       "      <td>0</td>\n",
       "      <td>0</td>\n",
       "      <td>0</td>\n",
       "    </tr>\n",
       "    <tr>\n",
       "      <th>4</th>\n",
       "      <td>0</td>\n",
       "      <td>0</td>\n",
       "      <td>1</td>\n",
       "      <td>696500</td>\n",
       "      <td>360.0</td>\n",
       "      <td>1</td>\n",
       "      <td>1</td>\n",
       "      <td>0</td>\n",
       "      <td>602</td>\n",
       "      <td>1</td>\n",
       "      <td>...</td>\n",
       "      <td>0</td>\n",
       "      <td>0</td>\n",
       "      <td>0</td>\n",
       "      <td>0</td>\n",
       "      <td>0</td>\n",
       "      <td>0</td>\n",
       "      <td>0</td>\n",
       "      <td>0</td>\n",
       "      <td>0</td>\n",
       "      <td>0</td>\n",
       "    </tr>\n",
       "  </tbody>\n",
       "</table>\n",
       "<p>5 rows × 21 columns</p>\n",
       "</div>"
      ],
      "text/plain": [
       "   Credit_Worthiness  open_credit  business_or_commercial  loan_amount   term  \\\n",
       "0                  0            0                       1       116500  360.0   \n",
       "1                  0            0                       0       206500  360.0   \n",
       "2                  0            0                       1       406500  360.0   \n",
       "3                  0            0                       1       456500  360.0   \n",
       "4                  0            0                       1       696500  360.0   \n",
       "\n",
       "   interest_only  lump_sum_payment  Secured_by  Credit_Score  Status  ...  \\\n",
       "0              1                 1           0           758       0  ...   \n",
       "1              1                 0           0           552       0  ...   \n",
       "2              1                 1           0           834       1  ...   \n",
       "3              1                 1           0           587       1  ...   \n",
       "4              1                 1           0           602       1  ...   \n",
       "\n",
       "   Gender_Male  Gender_Sex Not Available  loan_type_type2  loan_type_type3  \\\n",
       "0            0                         1                0                0   \n",
       "1            1                         0                1                0   \n",
       "2            1                         0                0                0   \n",
       "3            1                         0                0                0   \n",
       "4            0                         0                0                0   \n",
       "\n",
       "   total_units_2U  total_units_3U  total_units_4U  Region_North-East  \\\n",
       "0               0               0               0                  0   \n",
       "1               0               0               0                  0   \n",
       "2               0               0               0                  0   \n",
       "3               0               0               0                  0   \n",
       "4               0               0               0                  0   \n",
       "\n",
       "   Region_central  Region_south  \n",
       "0               0             1  \n",
       "1               0             0  \n",
       "2               0             1  \n",
       "3               0             0  \n",
       "4               0             0  \n",
       "\n",
       "[5 rows x 21 columns]"
      ]
     },
     "metadata": {},
     "output_type": "display_data"
    },
    {
     "name": "stdout",
     "output_type": "stream",
     "text": [
      "\n",
      "Before drop of outliers original dataset had 148670 samples.\n",
      "\n",
      "After drop of outliers dataset now has 120695 samples.\n"
     ]
    }
   ],
   "source": [
    "#Removal of outlier:\n",
    "df_4 = df_3.copy()\n",
    "for i in [i for i in df_4.columns]:\n",
    "    if df_4[i].nunique()>=12:\n",
    "        f_1 = df_4[i].quantile(0.20)\n",
    "        f_2 = df_4[i].quantile(0.80)\n",
    "        IQR = f_2 - f_1\n",
    "        df_4 = df_4[df_4[i] <= (f_2+(1.5*IQR))]\n",
    "        df_4 = df_4[df_4[i] >= (f_1-(1.5*IQR))]\n",
    "df_4 = df_4.reset_index(drop=True)\n",
    "display(df_4.head())\n",
    "# references:https://www.askpython.com/python/examples/detection-removal-outliers-in-python\n",
    "print('\\nBefore drop of outliers original dataset had {} samples.'.format(df_con.shape[0]))\n",
    "print('\\nAfter drop of outliers dataset now has {} samples.'.format(df_4.shape[0]))"
   ]
  },
  {
   "cell_type": "code",
   "execution_count": 17,
   "id": "e06a2753",
   "metadata": {
    "execution": {
     "iopub.execute_input": "2022-02-04T20:55:21.934712Z",
     "iopub.status.busy": "2022-02-04T20:55:21.933876Z",
     "iopub.status.idle": "2022-02-04T20:55:23.259240Z",
     "shell.execute_reply": "2022-02-04T20:55:23.259814Z",
     "shell.execute_reply.started": "2022-02-04T20:44:47.876194Z"
    },
    "id": "5434312b",
    "outputId": "41a8a440-2d4a-45bb-a6fc-daddd82096b3",
    "papermill": {
     "duration": 1.406906,
     "end_time": "2022-02-04T20:55:23.260012",
     "exception": false,
     "start_time": "2022-02-04T20:55:21.853106",
     "status": "completed"
    },
    "tags": []
   },
   "outputs": [
    {
     "name": "stdout",
     "output_type": "stream",
     "text": [
      "Original class distribution:\n",
      "1    91699\n",
      "0    28996\n",
      "Name: Status, dtype: int64\n",
      "\n",
      "Class distribution after SMOTE processing:\n",
      "0    91699\n",
      "1    91699\n",
      "Name: Status, dtype: int64\n"
     ]
    }
   ],
   "source": [
    "#Fixing the imbalance using SMOTE\n",
    "\n",
    "df_5 = df_4.copy()\n",
    "\n",
    "print('Original class distribution:')\n",
    "print(df_5['Status'].value_counts())\n",
    "# print(df_5[:-1].value_counts())\n",
    "\n",
    "xf = df_5.columns\n",
    "X = df_5.drop(['Status'],axis=1)\n",
    "Y = df_5['Status']\n",
    "\n",
    "smote = SMOTE()\n",
    "X, Y = smote.fit_resample(X, Y)\n",
    "\n",
    "df_5 = pd.DataFrame(X, columns=xf)\n",
    "df_5['Status'] = Y\n",
    "\n",
    "print('\\nClass distribution after SMOTE processing:',)\n",
    "print(Y.value_counts())\n",
    "#Note: Only the results of the label values are shown here, as the display of \n",
    "#   the feature values is more complicated due to the larger data size."
   ]
  },
  {
   "cell_type": "code",
   "execution_count": 18,
   "id": "1d070018",
   "metadata": {
    "execution": {
     "iopub.execute_input": "2022-02-04T20:55:23.411655Z",
     "iopub.status.busy": "2022-02-04T20:55:23.410860Z",
     "iopub.status.idle": "2022-02-04T20:55:23.618805Z",
     "shell.execute_reply": "2022-02-04T20:55:23.617905Z",
     "shell.execute_reply.started": "2022-02-04T20:44:49.468079Z"
    },
    "id": "afcceb4f",
    "outputId": "2c262ee8-acfe-4943-ae12-fd6c45905277",
    "papermill": {
     "duration": 0.284917,
     "end_time": "2022-02-04T20:55:23.619021",
     "exception": false,
     "start_time": "2022-02-04T20:55:23.334104",
     "status": "completed"
    },
    "tags": []
   },
   "outputs": [
    {
     "data": {
      "image/png": "[encoded data removed]",
      "text/plain": [
       "<Figure size 720x432 with 1 Axes>"
      ]
     },
     "metadata": {},
     "output_type": "display_data"
    },
    {
     "name": "stdout",
     "output_type": "stream",
     "text": [
      "\n",
      "\u001b[1mThe final dataset after cleanup has 183398 samples & 21 columns.\n"
     ]
    }
   ],
   "source": [
    "#Final Dataset size after performing Preprocessing\n",
    "\n",
    "df = df_5.copy()\n",
    "plt.title('Final Dataset Samples')\n",
    "plt.pie([df.shape[0], original_df.shape[0]-df_4.shape[0], df_5.shape[0]-df_4.shape[0]], radius = 1,\n",
    "        labels=['Retained','Dropped','Augmented'], counterclock=False, autopct='%1.1f%%', pctdistance=0.9, explode=[0,0,0])\n",
    "# plt.pie([df.shape[0]], labels=['100%'], labeldistance=-0, radius=0.50, colors=['powderblue'])\n",
    "plt.show()\n",
    "\n",
    "print('\\n\\033[1mThe final dataset after cleanup has {} samples & {} columns.'.format(df.shape[0], df.shape[1]))"
   ]
  },
  {
   "cell_type": "markdown",
   "id": "46d12861",
   "metadata": {
    "id": "9c9b4be0",
    "papermill": {
     "duration": 0.076754,
     "end_time": "2022-02-04T20:55:23.802478",
     "exception": false,
     "start_time": "2022-02-04T20:55:23.725724",
     "status": "completed"
    },
    "tags": []
   },
   "source": [
    "---"
   ]
  },
  {
   "cell_type": "markdown",
   "id": "44de4119",
   "metadata": {
    "id": "1088fde8",
    "papermill": {
     "duration": 0.079921,
     "end_time": "2022-02-04T20:55:23.959042",
     "exception": false,
     "start_time": "2022-02-04T20:55:23.879121",
     "status": "completed"
    },
    "tags": []
   },
   "source": [
    "# <center> 4. Data Manipulation"
   ]
  },
  {
   "cell_type": "code",
   "execution_count": 19,
   "id": "00181825",
   "metadata": {
    "execution": {
     "iopub.execute_input": "2022-02-04T20:55:24.126765Z",
     "iopub.status.busy": "2022-02-04T20:55:24.126017Z",
     "iopub.status.idle": "2022-02-04T20:55:24.189872Z",
     "shell.execute_reply": "2022-02-04T20:55:24.189310Z",
     "shell.execute_reply.started": "2022-02-04T20:44:49.657519Z"
    },
    "id": "35eca1d5",
    "outputId": "08959220-f0c6-4844-bcad-088fc70aa58c",
    "papermill": {
     "duration": 0.148263,
     "end_time": "2022-02-04T20:55:24.190020",
     "exception": false,
     "start_time": "2022-02-04T20:55:24.041757",
     "status": "completed"
    },
    "tags": []
   },
   "outputs": [
    {
     "name": "stdout",
     "output_type": "stream",
     "text": [
      "Original set:  features-> (183398, 20) Lables-> (183398,) \n",
      "Training set: training features-> (146718, 20) training labels-> (146718,) \n",
      "Testing set: testing features-> (36680, 20) testing labels-> (36680,)\n"
     ]
    }
   ],
   "source": [
    "#Splitting the data intro training & testing sets\n",
    "\n",
    "# df = df5.copy()\n",
    "\n",
    "feature_values = df.drop(['Status'],axis=1)\n",
    "Label_values = df['Status']\n",
    "X_train, X_test, Y_train , Y_test = train_test_split(feature_values, Label_values,test_size=0.2, random_state=0)\n",
    "\n",
    "print('Original set: ','features->',feature_values.shape,'Lables->',Label_values.shape,\n",
    "      '\\nTraining set:','training features->',X_train.shape,'training labels->',Y_train.shape,\n",
    "      '\\nTesting set:','testing features->', X_test.shape,'testing labels->', Y_test.shape)"
   ]
  },
  {
   "cell_type": "code",
   "execution_count": 20,
   "id": "c08e0987",
   "metadata": {
    "execution": {
     "iopub.execute_input": "2022-02-04T20:55:24.350854Z",
     "iopub.status.busy": "2022-02-04T20:55:24.350135Z",
     "iopub.status.idle": "2022-02-04T20:55:24.746004Z",
     "shell.execute_reply": "2022-02-04T20:55:24.746527Z",
     "shell.execute_reply.started": "2022-02-04T20:44:49.739204Z"
    },
    "id": "a4975ac6",
    "outputId": "ac976b84-dbcd-4e54-ae87-9e189b2fc167",
    "papermill": {
     "duration": 0.480592,
     "end_time": "2022-02-04T20:55:24.746715",
     "exception": false,
     "start_time": "2022-02-04T20:55:24.266123",
     "status": "completed"
    },
    "tags": []
   },
   "outputs": [
    {
     "name": "stdout",
     "output_type": "stream",
     "text": [
      "                                             Standardized Training set                                             \n"
     ]
    },
    {
     "data": {
      "text/html": [
       "<div>\n",
       "<style scoped>\n",
       "    .dataframe tbody tr th:only-of-type {\n",
       "        vertical-align: middle;\n",
       "    }\n",
       "\n",
       "    .dataframe tbody tr th {\n",
       "        vertical-align: top;\n",
       "    }\n",
       "\n",
       "    .dataframe thead th {\n",
       "        text-align: right;\n",
       "    }\n",
       "</style>\n",
       "<table border=\"1\" class=\"dataframe\">\n",
       "  <thead>\n",
       "    <tr style=\"text-align: right;\">\n",
       "      <th></th>\n",
       "      <th>Credit_Worthiness</th>\n",
       "      <th>open_credit</th>\n",
       "      <th>business_or_commercial</th>\n",
       "      <th>loan_amount</th>\n",
       "      <th>term</th>\n",
       "      <th>interest_only</th>\n",
       "      <th>lump_sum_payment</th>\n",
       "      <th>Secured_by</th>\n",
       "      <th>Credit_Score</th>\n",
       "      <th>Gender_Joint</th>\n",
       "      <th>Gender_Male</th>\n",
       "      <th>Gender_Sex Not Available</th>\n",
       "      <th>loan_type_type2</th>\n",
       "      <th>loan_type_type3</th>\n",
       "      <th>total_units_2U</th>\n",
       "      <th>total_units_3U</th>\n",
       "      <th>total_units_4U</th>\n",
       "      <th>Region_North-East</th>\n",
       "      <th>Region_central</th>\n",
       "      <th>Region_south</th>\n",
       "    </tr>\n",
       "  </thead>\n",
       "  <tbody>\n",
       "    <tr>\n",
       "      <th>0</th>\n",
       "      <td>-0.157172</td>\n",
       "      <td>-0.054216</td>\n",
       "      <td>0.522755</td>\n",
       "      <td>-0.857509</td>\n",
       "      <td>0.0</td>\n",
       "      <td>0.256243</td>\n",
       "      <td>0.254881</td>\n",
       "      <td>-0.013055</td>\n",
       "      <td>0.606413</td>\n",
       "      <td>-0.516101</td>\n",
       "      <td>-0.542915</td>\n",
       "      <td>2.037107</td>\n",
       "      <td>-0.382429</td>\n",
       "      <td>-0.289699</td>\n",
       "      <td>-0.085469</td>\n",
       "      <td>-0.042215</td>\n",
       "      <td>-0.037769</td>\n",
       "      <td>-0.074831</td>\n",
       "      <td>-0.208688</td>\n",
       "      <td>1.341368</td>\n",
       "    </tr>\n",
       "    <tr>\n",
       "      <th>1</th>\n",
       "      <td>-0.157172</td>\n",
       "      <td>-0.054216</td>\n",
       "      <td>-1.912941</td>\n",
       "      <td>-0.150428</td>\n",
       "      <td>0.0</td>\n",
       "      <td>0.256243</td>\n",
       "      <td>0.254881</td>\n",
       "      <td>-0.013055</td>\n",
       "      <td>-1.425536</td>\n",
       "      <td>-0.516101</td>\n",
       "      <td>-0.542915</td>\n",
       "      <td>2.037107</td>\n",
       "      <td>2.614861</td>\n",
       "      <td>-0.289699</td>\n",
       "      <td>-0.085469</td>\n",
       "      <td>-0.042215</td>\n",
       "      <td>-0.037769</td>\n",
       "      <td>-0.074831</td>\n",
       "      <td>-0.208688</td>\n",
       "      <td>1.341368</td>\n",
       "    </tr>\n",
       "    <tr>\n",
       "      <th>2</th>\n",
       "      <td>-0.157172</td>\n",
       "      <td>-0.054216</td>\n",
       "      <td>0.522755</td>\n",
       "      <td>-0.680739</td>\n",
       "      <td>0.0</td>\n",
       "      <td>0.256243</td>\n",
       "      <td>0.254881</td>\n",
       "      <td>-0.013055</td>\n",
       "      <td>0.589193</td>\n",
       "      <td>-0.516101</td>\n",
       "      <td>1.841907</td>\n",
       "      <td>-0.490892</td>\n",
       "      <td>-0.382429</td>\n",
       "      <td>-0.289699</td>\n",
       "      <td>-0.085469</td>\n",
       "      <td>-0.042215</td>\n",
       "      <td>-0.037769</td>\n",
       "      <td>-0.074831</td>\n",
       "      <td>-0.208688</td>\n",
       "      <td>-0.745508</td>\n",
       "    </tr>\n",
       "    <tr>\n",
       "      <th>3</th>\n",
       "      <td>-0.157172</td>\n",
       "      <td>-0.054216</td>\n",
       "      <td>0.522755</td>\n",
       "      <td>-1.623514</td>\n",
       "      <td>0.0</td>\n",
       "      <td>0.256243</td>\n",
       "      <td>0.254881</td>\n",
       "      <td>-0.013055</td>\n",
       "      <td>-1.606345</td>\n",
       "      <td>-0.516101</td>\n",
       "      <td>1.841907</td>\n",
       "      <td>-0.490892</td>\n",
       "      <td>-0.382429</td>\n",
       "      <td>3.451857</td>\n",
       "      <td>-0.085469</td>\n",
       "      <td>-0.042215</td>\n",
       "      <td>-0.037769</td>\n",
       "      <td>-0.074831</td>\n",
       "      <td>-0.208688</td>\n",
       "      <td>-0.745508</td>\n",
       "    </tr>\n",
       "    <tr>\n",
       "      <th>4</th>\n",
       "      <td>-0.157172</td>\n",
       "      <td>-0.054216</td>\n",
       "      <td>0.522755</td>\n",
       "      <td>0.910193</td>\n",
       "      <td>0.0</td>\n",
       "      <td>0.256243</td>\n",
       "      <td>0.254881</td>\n",
       "      <td>-0.013055</td>\n",
       "      <td>0.373944</td>\n",
       "      <td>1.937604</td>\n",
       "      <td>-0.542915</td>\n",
       "      <td>-0.490892</td>\n",
       "      <td>-0.382429</td>\n",
       "      <td>-0.289699</td>\n",
       "      <td>-0.085469</td>\n",
       "      <td>-0.042215</td>\n",
       "      <td>-0.037769</td>\n",
       "      <td>-0.074831</td>\n",
       "      <td>4.791846</td>\n",
       "      <td>-0.745508</td>\n",
       "    </tr>\n",
       "  </tbody>\n",
       "</table>\n",
       "</div>"
      ],
      "text/plain": [
       "   Credit_Worthiness  open_credit  business_or_commercial  loan_amount  term  \\\n",
       "0          -0.157172    -0.054216                0.522755    -0.857509   0.0   \n",
       "1          -0.157172    -0.054216               -1.912941    -0.150428   0.0   \n",
       "2          -0.157172    -0.054216                0.522755    -0.680739   0.0   \n",
       "3          -0.157172    -0.054216                0.522755    -1.623514   0.0   \n",
       "4          -0.157172    -0.054216                0.522755     0.910193   0.0   \n",
       "\n",
       "   interest_only  lump_sum_payment  Secured_by  Credit_Score  Gender_Joint  \\\n",
       "0       0.256243          0.254881   -0.013055      0.606413     -0.516101   \n",
       "1       0.256243          0.254881   -0.013055     -1.425536     -0.516101   \n",
       "2       0.256243          0.254881   -0.013055      0.589193     -0.516101   \n",
       "3       0.256243          0.254881   -0.013055     -1.606345     -0.516101   \n",
       "4       0.256243          0.254881   -0.013055      0.373944      1.937604   \n",
       "\n",
       "   Gender_Male  Gender_Sex Not Available  loan_type_type2  loan_type_type3  \\\n",
       "0    -0.542915                  2.037107        -0.382429        -0.289699   \n",
       "1    -0.542915                  2.037107         2.614861        -0.289699   \n",
       "2     1.841907                 -0.490892        -0.382429        -0.289699   \n",
       "3     1.841907                 -0.490892        -0.382429         3.451857   \n",
       "4    -0.542915                 -0.490892        -0.382429        -0.289699   \n",
       "\n",
       "   total_units_2U  total_units_3U  total_units_4U  Region_North-East  \\\n",
       "0       -0.085469       -0.042215       -0.037769          -0.074831   \n",
       "1       -0.085469       -0.042215       -0.037769          -0.074831   \n",
       "2       -0.085469       -0.042215       -0.037769          -0.074831   \n",
       "3       -0.085469       -0.042215       -0.037769          -0.074831   \n",
       "4       -0.085469       -0.042215       -0.037769          -0.074831   \n",
       "\n",
       "   Region_central  Region_south  \n",
       "0       -0.208688      1.341368  \n",
       "1       -0.208688      1.341368  \n",
       "2       -0.208688     -0.745508  \n",
       "3       -0.208688     -0.745508  \n",
       "4        4.791846     -0.745508  "
      ]
     },
     "metadata": {},
     "output_type": "display_data"
    },
    {
     "name": "stdout",
     "output_type": "stream",
     "text": [
      "                                              Standardized Testing set                                             \n"
     ]
    },
    {
     "data": {
      "text/html": [
       "<div>\n",
       "<style scoped>\n",
       "    .dataframe tbody tr th:only-of-type {\n",
       "        vertical-align: middle;\n",
       "    }\n",
       "\n",
       "    .dataframe tbody tr th {\n",
       "        vertical-align: top;\n",
       "    }\n",
       "\n",
       "    .dataframe thead th {\n",
       "        text-align: right;\n",
       "    }\n",
       "</style>\n",
       "<table border=\"1\" class=\"dataframe\">\n",
       "  <thead>\n",
       "    <tr style=\"text-align: right;\">\n",
       "      <th></th>\n",
       "      <th>Credit_Worthiness</th>\n",
       "      <th>open_credit</th>\n",
       "      <th>business_or_commercial</th>\n",
       "      <th>loan_amount</th>\n",
       "      <th>term</th>\n",
       "      <th>interest_only</th>\n",
       "      <th>lump_sum_payment</th>\n",
       "      <th>Secured_by</th>\n",
       "      <th>Credit_Score</th>\n",
       "      <th>Gender_Joint</th>\n",
       "      <th>Gender_Male</th>\n",
       "      <th>Gender_Sex Not Available</th>\n",
       "      <th>loan_type_type2</th>\n",
       "      <th>loan_type_type3</th>\n",
       "      <th>total_units_2U</th>\n",
       "      <th>total_units_3U</th>\n",
       "      <th>total_units_4U</th>\n",
       "      <th>Region_North-East</th>\n",
       "      <th>Region_central</th>\n",
       "      <th>Region_south</th>\n",
       "    </tr>\n",
       "  </thead>\n",
       "  <tbody>\n",
       "    <tr>\n",
       "      <th>0</th>\n",
       "      <td>-0.157172</td>\n",
       "      <td>-0.054216</td>\n",
       "      <td>-1.912941</td>\n",
       "      <td>-1.152126</td>\n",
       "      <td>0.0</td>\n",
       "      <td>0.256243</td>\n",
       "      <td>0.254881</td>\n",
       "      <td>-0.013055</td>\n",
       "      <td>1.097180</td>\n",
       "      <td>1.937604</td>\n",
       "      <td>-0.542915</td>\n",
       "      <td>-0.490892</td>\n",
       "      <td>2.614861</td>\n",
       "      <td>-0.289699</td>\n",
       "      <td>-0.085469</td>\n",
       "      <td>-0.042215</td>\n",
       "      <td>-0.037769</td>\n",
       "      <td>-0.074831</td>\n",
       "      <td>-0.208688</td>\n",
       "      <td>-0.745508</td>\n",
       "    </tr>\n",
       "    <tr>\n",
       "      <th>1</th>\n",
       "      <td>-0.157172</td>\n",
       "      <td>-0.054216</td>\n",
       "      <td>0.522755</td>\n",
       "      <td>-0.150428</td>\n",
       "      <td>0.0</td>\n",
       "      <td>0.256243</td>\n",
       "      <td>0.254881</td>\n",
       "      <td>-0.013055</td>\n",
       "      <td>1.295209</td>\n",
       "      <td>-0.516101</td>\n",
       "      <td>-0.542915</td>\n",
       "      <td>-0.490892</td>\n",
       "      <td>-0.382429</td>\n",
       "      <td>-0.289699</td>\n",
       "      <td>-0.085469</td>\n",
       "      <td>-0.042215</td>\n",
       "      <td>-0.037769</td>\n",
       "      <td>-0.074831</td>\n",
       "      <td>-0.208688</td>\n",
       "      <td>-0.745508</td>\n",
       "    </tr>\n",
       "    <tr>\n",
       "      <th>2</th>\n",
       "      <td>-0.157172</td>\n",
       "      <td>-0.054216</td>\n",
       "      <td>0.522755</td>\n",
       "      <td>-0.032581</td>\n",
       "      <td>0.0</td>\n",
       "      <td>0.256243</td>\n",
       "      <td>0.254881</td>\n",
       "      <td>-0.013055</td>\n",
       "      <td>-0.573150</td>\n",
       "      <td>-0.516101</td>\n",
       "      <td>-0.542915</td>\n",
       "      <td>-0.490892</td>\n",
       "      <td>-0.382429</td>\n",
       "      <td>-0.289699</td>\n",
       "      <td>-0.085469</td>\n",
       "      <td>-0.042215</td>\n",
       "      <td>-0.037769</td>\n",
       "      <td>-0.074831</td>\n",
       "      <td>-0.208688</td>\n",
       "      <td>-0.745508</td>\n",
       "    </tr>\n",
       "    <tr>\n",
       "      <th>3</th>\n",
       "      <td>-0.157172</td>\n",
       "      <td>-0.054216</td>\n",
       "      <td>0.522755</td>\n",
       "      <td>1.440504</td>\n",
       "      <td>0.0</td>\n",
       "      <td>0.256243</td>\n",
       "      <td>0.254881</td>\n",
       "      <td>-0.013055</td>\n",
       "      <td>1.510458</td>\n",
       "      <td>-0.516101</td>\n",
       "      <td>-0.542915</td>\n",
       "      <td>-0.490892</td>\n",
       "      <td>-0.382429</td>\n",
       "      <td>-0.289699</td>\n",
       "      <td>-0.085469</td>\n",
       "      <td>-0.042215</td>\n",
       "      <td>-0.037769</td>\n",
       "      <td>-0.074831</td>\n",
       "      <td>-0.208688</td>\n",
       "      <td>-0.745508</td>\n",
       "    </tr>\n",
       "    <tr>\n",
       "      <th>4</th>\n",
       "      <td>-0.157172</td>\n",
       "      <td>-0.054216</td>\n",
       "      <td>0.522755</td>\n",
       "      <td>-0.680739</td>\n",
       "      <td>0.0</td>\n",
       "      <td>0.256243</td>\n",
       "      <td>0.254881</td>\n",
       "      <td>-0.013055</td>\n",
       "      <td>1.114400</td>\n",
       "      <td>-0.516101</td>\n",
       "      <td>-0.542915</td>\n",
       "      <td>-0.490892</td>\n",
       "      <td>-0.382429</td>\n",
       "      <td>-0.289699</td>\n",
       "      <td>-0.085469</td>\n",
       "      <td>-0.042215</td>\n",
       "      <td>-0.037769</td>\n",
       "      <td>-0.074831</td>\n",
       "      <td>-0.208688</td>\n",
       "      <td>-0.745508</td>\n",
       "    </tr>\n",
       "  </tbody>\n",
       "</table>\n",
       "</div>"
      ],
      "text/plain": [
       "   Credit_Worthiness  open_credit  business_or_commercial  loan_amount  term  \\\n",
       "0          -0.157172    -0.054216               -1.912941    -1.152126   0.0   \n",
       "1          -0.157172    -0.054216                0.522755    -0.150428   0.0   \n",
       "2          -0.157172    -0.054216                0.522755    -0.032581   0.0   \n",
       "3          -0.157172    -0.054216                0.522755     1.440504   0.0   \n",
       "4          -0.157172    -0.054216                0.522755    -0.680739   0.0   \n",
       "\n",
       "   interest_only  lump_sum_payment  Secured_by  Credit_Score  Gender_Joint  \\\n",
       "0       0.256243          0.254881   -0.013055      1.097180      1.937604   \n",
       "1       0.256243          0.254881   -0.013055      1.295209     -0.516101   \n",
       "2       0.256243          0.254881   -0.013055     -0.573150     -0.516101   \n",
       "3       0.256243          0.254881   -0.013055      1.510458     -0.516101   \n",
       "4       0.256243          0.254881   -0.013055      1.114400     -0.516101   \n",
       "\n",
       "   Gender_Male  Gender_Sex Not Available  loan_type_type2  loan_type_type3  \\\n",
       "0    -0.542915                 -0.490892         2.614861        -0.289699   \n",
       "1    -0.542915                 -0.490892        -0.382429        -0.289699   \n",
       "2    -0.542915                 -0.490892        -0.382429        -0.289699   \n",
       "3    -0.542915                 -0.490892        -0.382429        -0.289699   \n",
       "4    -0.542915                 -0.490892        -0.382429        -0.289699   \n",
       "\n",
       "   total_units_2U  total_units_3U  total_units_4U  Region_North-East  \\\n",
       "0       -0.085469       -0.042215       -0.037769          -0.074831   \n",
       "1       -0.085469       -0.042215       -0.037769          -0.074831   \n",
       "2       -0.085469       -0.042215       -0.037769          -0.074831   \n",
       "3       -0.085469       -0.042215       -0.037769          -0.074831   \n",
       "4       -0.085469       -0.042215       -0.037769          -0.074831   \n",
       "\n",
       "   Region_central  Region_south  \n",
       "0       -0.208688     -0.745508  \n",
       "1       -0.208688     -0.745508  \n",
       "2       -0.208688     -0.745508  \n",
       "3       -0.208688     -0.745508  \n",
       "4       -0.208688     -0.745508  "
      ]
     },
     "metadata": {},
     "output_type": "display_data"
    }
   ],
   "source": [
    "#Feature Scaling (Standardization)\n",
    "\n",
    "sc_X= StandardScaler()\n",
    "\n",
    "X_train = sc_X.fit_transform(X_train)\n",
    "X_train = pd.DataFrame(X_train, columns=feature_values.columns)\n",
    "X_test = sc_X.transform(X_test)\n",
    "X_test = pd.DataFrame(X_test, columns=feature_values.columns)\n",
    "\n",
    "print('Standardized Training set'.center(115))\n",
    "display(X_train.head())\n",
    "\n",
    "print('Standardized Testing set'.center(115))\n",
    "display(X_test.head())"
   ]
  },
  {
   "cell_type": "markdown",
   "id": "99243b6e",
   "metadata": {
    "id": "83dc6b40",
    "papermill": {
     "duration": 0.081195,
     "end_time": "2022-02-04T20:55:24.906476",
     "exception": false,
     "start_time": "2022-02-04T20:55:24.825281",
     "status": "completed"
    },
    "tags": []
   },
   "source": [
    "---"
   ]
  },
  {
   "cell_type": "markdown",
   "id": "77b5d671",
   "metadata": {
    "id": "8d444cab",
    "papermill": {
     "duration": 0.082911,
     "end_time": "2022-02-04T20:55:25.068712",
     "exception": false,
     "start_time": "2022-02-04T20:55:24.985801",
     "status": "completed"
    },
    "tags": []
   },
   "source": [
    "# <center> 5. Feature Selection/Extraction"
   ]
  },
  {
   "cell_type": "code",
   "execution_count": 21,
   "id": "799d374a",
   "metadata": {
    "execution": {
     "iopub.execute_input": "2022-02-04T20:55:25.257165Z",
     "iopub.status.busy": "2022-02-04T20:55:25.246743Z",
     "iopub.status.idle": "2022-02-04T20:55:26.577729Z",
     "shell.execute_reply": "2022-02-04T20:55:26.578274Z",
     "shell.execute_reply.started": "2022-01-29T16:17:47.746643Z"
    },
    "id": "d63e0ceb",
    "outputId": "eac7e7f7-5950-423d-f191-0ba96ac0f9f5",
    "papermill": {
     "duration": 1.428763,
     "end_time": "2022-02-04T20:55:26.578454",
     "exception": false,
     "start_time": "2022-02-04T20:55:25.149691",
     "status": "completed"
    },
    "tags": []
   },
   "outputs": [
    {
     "data": {
      "image/png": "[encoded data removed]",
      "text/plain": [
       "<Figure size 864x720 with 2 Axes>"
      ]
     },
     "metadata": {
      "needs_background": "light"
     },
     "output_type": "display_data"
    }
   ],
   "source": [
    "#Checking the correlation\n",
    "features = df.columns\n",
    "plt.figure(figsize=[12,10])\n",
    "plt.title('Features Correlation-Plot')\n",
    "sns.heatmap(df[features].corr(), vmin=-1, vmax=1, center=0) #, \n",
    "plt.show()"
   ]
  },
  {
   "cell_type": "code",
   "execution_count": 22,
   "id": "90beefd6",
   "metadata": {},
   "outputs": [
    {
     "data": {
      "text/html": [
       "<div>\n",
       "<style scoped>\n",
       "    .dataframe tbody tr th:only-of-type {\n",
       "        vertical-align: middle;\n",
       "    }\n",
       "\n",
       "    .dataframe tbody tr th {\n",
       "        vertical-align: top;\n",
       "    }\n",
       "\n",
       "    .dataframe thead th {\n",
       "        text-align: right;\n",
       "    }\n",
       "</style>\n",
       "<table border=\"1\" class=\"dataframe\">\n",
       "  <thead>\n",
       "    <tr style=\"text-align: right;\">\n",
       "      <th></th>\n",
       "      <th>0</th>\n",
       "    </tr>\n",
       "  </thead>\n",
       "  <tbody>\n",
       "    <tr>\n",
       "      <th>0</th>\n",
       "      <td>0.101186</td>\n",
       "    </tr>\n",
       "    <tr>\n",
       "      <th>1</th>\n",
       "      <td>0.096202</td>\n",
       "    </tr>\n",
       "    <tr>\n",
       "      <th>2</th>\n",
       "      <td>0.072274</td>\n",
       "    </tr>\n",
       "    <tr>\n",
       "      <th>3</th>\n",
       "      <td>0.069276</td>\n",
       "    </tr>\n",
       "    <tr>\n",
       "      <th>4</th>\n",
       "      <td>0.058122</td>\n",
       "    </tr>\n",
       "    <tr>\n",
       "      <th>5</th>\n",
       "      <td>0.054972</td>\n",
       "    </tr>\n",
       "    <tr>\n",
       "      <th>6</th>\n",
       "      <td>0.053175</td>\n",
       "    </tr>\n",
       "    <tr>\n",
       "      <th>7</th>\n",
       "      <td>0.052860</td>\n",
       "    </tr>\n",
       "    <tr>\n",
       "      <th>8</th>\n",
       "      <td>0.052617</td>\n",
       "    </tr>\n",
       "    <tr>\n",
       "      <th>9</th>\n",
       "      <td>0.052521</td>\n",
       "    </tr>\n",
       "    <tr>\n",
       "      <th>10</th>\n",
       "      <td>0.052408</td>\n",
       "    </tr>\n",
       "    <tr>\n",
       "      <th>11</th>\n",
       "      <td>0.051475</td>\n",
       "    </tr>\n",
       "    <tr>\n",
       "      <th>12</th>\n",
       "      <td>0.049667</td>\n",
       "    </tr>\n",
       "    <tr>\n",
       "      <th>13</th>\n",
       "      <td>0.046689</td>\n",
       "    </tr>\n",
       "    <tr>\n",
       "      <th>14</th>\n",
       "      <td>0.044616</td>\n",
       "    </tr>\n",
       "    <tr>\n",
       "      <th>15</th>\n",
       "      <td>0.034741</td>\n",
       "    </tr>\n",
       "    <tr>\n",
       "      <th>16</th>\n",
       "      <td>0.028053</td>\n",
       "    </tr>\n",
       "    <tr>\n",
       "      <th>17</th>\n",
       "      <td>0.016422</td>\n",
       "    </tr>\n",
       "    <tr>\n",
       "      <th>18</th>\n",
       "      <td>0.012725</td>\n",
       "    </tr>\n",
       "  </tbody>\n",
       "</table>\n",
       "</div>"
      ],
      "text/plain": [
       "           0\n",
       "0   0.101186\n",
       "1   0.096202\n",
       "2   0.072274\n",
       "3   0.069276\n",
       "4   0.058122\n",
       "5   0.054972\n",
       "6   0.053175\n",
       "7   0.052860\n",
       "8   0.052617\n",
       "9   0.052521\n",
       "10  0.052408\n",
       "11  0.051475\n",
       "12  0.049667\n",
       "13  0.046689\n",
       "14  0.044616\n",
       "15  0.034741\n",
       "16  0.028053\n",
       "17  0.016422\n",
       "18  0.012725"
      ]
     },
     "metadata": {},
     "output_type": "display_data"
    },
    {
     "name": "stdout",
     "output_type": "stream",
     "text": [
      "\u001b[1mNow there are 19 features and oraginal features is 21\n"
     ]
    }
   ],
   "source": [
    "pca = PCA(n_components = 'mle')\n",
    "X_train = pca.fit_transform(X_train)\n",
    "X_test = pca.transform(X_test)\n",
    "explained_variance = pca.explained_variance_ratio_\n",
    "display(pd.DataFrame(explained_variance))\n",
    "print('\\033[1mNow there are {} features and oraginal features is 21'.format(pd.DataFrame(explained_variance).shape[0]))"
   ]
  },
  {
   "cell_type": "markdown",
   "id": "a8657141",
   "metadata": {
    "id": "286c06ca",
    "papermill": {
     "duration": 0.118749,
     "end_time": "2022-02-04T22:12:54.768533",
     "exception": false,
     "start_time": "2022-02-04T22:12:54.649784",
     "status": "completed"
    },
    "tags": []
   },
   "source": [
    "# <center> 6. Predictive Modeling"
   ]
  },
  {
   "cell_type": "code",
   "execution_count": 23,
   "id": "739e5112",
   "metadata": {
    "execution": {
     "iopub.execute_input": "2022-02-04T22:12:55.017198Z",
     "iopub.status.busy": "2022-02-04T22:12:55.016481Z",
     "iopub.status.idle": "2022-02-04T22:12:55.019568Z",
     "shell.execute_reply": "2022-02-04T22:12:55.020040Z",
     "shell.execute_reply.started": "2022-02-04T20:44:54.871329Z"
    },
    "id": "dcc7ddf4",
    "outputId": "0a6819e7-eb1b-4621-ec69-13380967b6e6",
    "papermill": {
     "duration": 0.135309,
     "end_time": "2022-02-04T22:12:55.020219",
     "exception": false,
     "start_time": "2022-02-04T22:12:54.884910",
     "status": "completed"
    },
    "tags": []
   },
   "outputs": [
    {
     "data": {
      "text/html": [
       "<div>\n",
       "<style scoped>\n",
       "    .dataframe tbody tr th:only-of-type {\n",
       "        vertical-align: middle;\n",
       "    }\n",
       "\n",
       "    .dataframe tbody tr th {\n",
       "        vertical-align: top;\n",
       "    }\n",
       "\n",
       "    .dataframe thead th {\n",
       "        text-align: right;\n",
       "    }\n",
       "</style>\n",
       "<table border=\"1\" class=\"dataframe\">\n",
       "  <thead>\n",
       "    <tr style=\"text-align: right;\">\n",
       "      <th></th>\n",
       "      <th>Accuracy</th>\n",
       "      <th>Precision</th>\n",
       "      <th>Recall</th>\n",
       "      <th>F1-score</th>\n",
       "      <th>AUC-ROC score</th>\n",
       "    </tr>\n",
       "  </thead>\n",
       "  <tbody>\n",
       "    <tr>\n",
       "      <th>Logistic Regression (LR)</th>\n",
       "      <td>0.0</td>\n",
       "      <td>0.0</td>\n",
       "      <td>0.0</td>\n",
       "      <td>0.0</td>\n",
       "      <td>0.0</td>\n",
       "    </tr>\n",
       "    <tr>\n",
       "      <th>Decision Tree Classifier (DT)</th>\n",
       "      <td>0.0</td>\n",
       "      <td>0.0</td>\n",
       "      <td>0.0</td>\n",
       "      <td>0.0</td>\n",
       "      <td>0.0</td>\n",
       "    </tr>\n",
       "    <tr>\n",
       "      <th>Random Forest Classifier (RF)</th>\n",
       "      <td>0.0</td>\n",
       "      <td>0.0</td>\n",
       "      <td>0.0</td>\n",
       "      <td>0.0</td>\n",
       "      <td>0.0</td>\n",
       "    </tr>\n",
       "    <tr>\n",
       "      <th>Naïve Bayes Classifier (NB)</th>\n",
       "      <td>0.0</td>\n",
       "      <td>0.0</td>\n",
       "      <td>0.0</td>\n",
       "      <td>0.0</td>\n",
       "      <td>0.0</td>\n",
       "    </tr>\n",
       "  </tbody>\n",
       "</table>\n",
       "</div>"
      ],
      "text/plain": [
       "                               Accuracy  Precision  Recall  F1-score  \\\n",
       "Logistic Regression (LR)            0.0        0.0     0.0       0.0   \n",
       "Decision Tree Classifier (DT)       0.0        0.0     0.0       0.0   \n",
       "Random Forest Classifier (RF)       0.0        0.0     0.0       0.0   \n",
       "Naïve Bayes Classifier (NB)         0.0        0.0     0.0       0.0   \n",
       "\n",
       "                               AUC-ROC score  \n",
       "Logistic Regression (LR)                 0.0  \n",
       "Decision Tree Classifier (DT)            0.0  \n",
       "Random Forest Classifier (RF)            0.0  \n",
       "Naïve Bayes Classifier (NB)              0.0  "
      ]
     },
     "execution_count": 23,
     "metadata": {},
     "output_type": "execute_result"
    }
   ],
   "source": [
    "#Let us create first create a table to store the results of various models \n",
    "all_models =('Logistic Regression (LR)','Decision Tree Classifier (DT)','Random Forest Classifier (RF)',\n",
    "                  'Naïve Bayes Classifier (NB)')\n",
    "Evaluation = pd.DataFrame(np.zeros((4,5)), columns=['Accuracy', 'Precision','Recall','F1-score','AUC-ROC score'])\n",
    "Evaluation.index=['Logistic Regression (LR)','Decision Tree Classifier (DT)','Random Forest Classifier (RF)',\n",
    "                  'Naïve Bayes Classifier (NB)']\n",
    "Evaluation"
   ]
  },
  {
   "cell_type": "code",
   "execution_count": 24,
   "id": "2c3de098",
   "metadata": {
    "execution": {
     "iopub.execute_input": "2022-02-04T22:12:55.263853Z",
     "iopub.status.busy": "2022-02-04T22:12:55.263134Z",
     "iopub.status.idle": "2022-02-04T22:12:55.273233Z",
     "shell.execute_reply": "2022-02-04T22:12:55.272660Z",
     "shell.execute_reply.started": "2022-02-04T20:44:55.060179Z"
    },
    "id": "26577fca",
    "papermill": {
     "duration": 0.134182,
     "end_time": "2022-02-04T22:12:55.273388",
     "exception": false,
     "start_time": "2022-02-04T22:12:55.139206",
     "status": "completed"
    },
    "tags": []
   },
   "outputs": [],
   "source": [
    "#Let us define functions to summarise the Prediction's scores .\n",
    "\n",
    "#Classification Summary Function\n",
    "def Classification_Summary(Y_pred,pred_prob,i):\n",
    "    Evaluation.iloc[i]['Accuracy']=round(accuracy_score(Y_test, Y_pred),3)*100   \n",
    "    Evaluation.iloc[i]['Precision']=round(precision_score(Y_test, Y_pred, average='weighted'),3)*100 #\n",
    "    Evaluation.iloc[i]['Recall']=round(recall_score(Y_test, Y_pred, average='weighted'),3)*100 #\n",
    "    Evaluation.iloc[i]['F1-score']=round(f1_score(Y_test, Y_pred, average='weighted'),3)*100 #\n",
    "    Evaluation.iloc[i]['AUC-ROC score']=round(roc_auc_score(Y_test, pred_prob[:, 1], multi_class='ovr'),3)*100 #[:, 1]\n",
    "    print('{}{}\\033[1m Evaluating {} \\033[0m{}{}\\n'.format('<'*3,'-'*25,Evaluation.index[i], '-'*25,'>'*3))\n",
    "    print('Accuracy = {}%'.format(round(accuracy_score(Y_test, Y_pred),3)*100))\n",
    "    print('F1 Score = {}%'.format(round(f1_score(Y_test, Y_pred, average='weighted'),3)*100)) #\n",
    "    print('\\n \\033[1mConfusiton Matrix:\\033[0m\\n',confusion_matrix(Y_test, Y_pred))\n",
    "    print('\\n\\033[1mClassification Report:\\033[0m\\n',classification_report(Y_test, Y_pred))\n",
    "    #reference:https://towardsdatascience.com/machine-learning-predicting-bank-loan-defaults-d48bffb9aee2\n",
    "    auc_roc(Y_test, pred_prob, curves=['each_class'])\n",
    "    plt.show()\n",
    "\n",
    "#Visualising Function\n",
    "def AUC_ROC_plot(Y_test, Y_pred):    \n",
    "    ref = [0 for _ in range(len(Y_test))]\n",
    "    ref_auc = roc_auc_score(Y_test, ref)\n",
    "    lr_auc = roc_auc_score(Y_test, Y_pred)\n",
    "\n",
    "    ns_fpr, ns_tpr, _ = roc_curve(Y_test, ref)\n",
    "    lr_fpr, lr_tpr, _ = roc_curve(Y_test, Y_pred)\n",
    "\n",
    "    plt.plot(ns_fpr, ns_tpr, linestyle='--')\n",
    "    plt.plot(lr_fpr, lr_tpr, marker='.', label='AUC = {}'.format(round(roc_auc_score(Y_test, Y_pred)*100,2))) \n",
    "    plt.xlabel('False Positive Rate')\n",
    "    plt.ylabel('True Positive Rate')\n",
    "    plt.legend()\n",
    "    plt.show()\n",
    "    #reference:https://towardsdatascience.com/machine-learning-predicting-bank-loan-defaults-d48bffb9aee2"
   ]
  },
  {
   "cell_type": "markdown",
   "id": "cd574033",
   "metadata": {
    "id": "5737ebe9",
    "papermill": {
     "duration": 0.115492,
     "end_time": "2022-02-04T22:12:55.505127",
     "exception": false,
     "start_time": "2022-02-04T22:12:55.389635",
     "status": "completed"
    },
    "tags": []
   },
   "source": [
    "---"
   ]
  },
  {
   "cell_type": "markdown",
   "id": "0baf41f5",
   "metadata": {
    "id": "77912773",
    "papermill": {
     "duration": 0.117592,
     "end_time": "2022-02-04T22:12:55.737199",
     "exception": false,
     "start_time": "2022-02-04T22:12:55.619607",
     "status": "completed"
    },
    "tags": []
   },
   "source": [
    "## 1. Logistic Regression:"
   ]
  },
  {
   "cell_type": "code",
   "execution_count": 25,
   "id": "2ab9e8d0",
   "metadata": {
    "execution": {
     "iopub.execute_input": "2022-02-04T22:12:55.978005Z",
     "iopub.status.busy": "2022-02-04T22:12:55.977276Z",
     "iopub.status.idle": "2022-02-04T22:12:57.295428Z",
     "shell.execute_reply": "2022-02-04T22:12:57.295896Z",
     "shell.execute_reply.started": "2022-02-04T20:44:59.150139Z"
    },
    "id": "6980327a",
    "outputId": "9a6fa6dd-f60f-4e24-ec4a-7261c86cb609",
    "papermill": {
     "duration": 1.443549,
     "end_time": "2022-02-04T22:12:57.296073",
     "exception": false,
     "start_time": "2022-02-04T22:12:55.852524",
     "status": "completed"
    },
    "tags": []
   },
   "outputs": [
    {
     "name": "stdout",
     "output_type": "stream",
     "text": [
      "<<<-------------------------\u001b[1m Evaluating Logistic Regression (LR) \u001b[0m------------------------->>>\n",
      "\n",
      "Accuracy = 72.5%\n",
      "F1 Score = 72.3%\n",
      "\n",
      " \u001b[1mConfusiton Matrix:\u001b[0m\n",
      " [[11800  6661]\n",
      " [ 3420 14799]]\n",
      "\n",
      "\u001b[1mClassification Report:\u001b[0m\n",
      "               precision    recall  f1-score   support\n",
      "\n",
      "           0       0.78      0.64      0.70     18461\n",
      "           1       0.69      0.81      0.75     18219\n",
      "\n",
      "    accuracy                           0.73     36680\n",
      "   macro avg       0.73      0.73      0.72     36680\n",
      "weighted avg       0.73      0.73      0.72     36680\n",
      "\n"
     ]
    },
    {
     "data": {
      "image/png": "[encoded data removed]",
      "text/plain": [
       "<Figure size 720x432 with 1 Axes>"
      ]
     },
     "metadata": {
      "needs_background": "light"
     },
     "output_type": "display_data"
    },
    {
     "name": "stdout",
     "output_type": "stream",
     "text": [
      "Running time: 0.25690197944641113 Seconds\n"
     ]
    }
   ],
   "source": [
    "# Building Logistic Regression Classifier\n",
    "LR_classifier = LogisticRegression()\n",
    "start_time_LR=time.time()\n",
    "param_dist={\"solver\":['newton-cg', 'lbfgs', 'liblinear'],\n",
    "           \"penalty\":['l2','l1']}\n",
    "# RandomizedsearchCV optimization parameters\n",
    "clf = RandomizedSearchCV(LR_classifier, param_dist, n_iter=50, scoring='roc_auc', n_jobs=-1, cv=10, random_state=0)\n",
    "\n",
    "LR = LR_classifier.fit(X_train, Y_train)\n",
    "Y_pred = LR.predict(X_test)\n",
    "pred_prob = LR.predict_proba(X_test)\n",
    "end_time_LR=time.time()\n",
    "total_time_LR=end_time_LR-start_time_LR\n",
    "Classification_Summary(Y_pred,pred_prob,0)\n",
    "print('Running time: %s Seconds'%total_time_LR)"
   ]
  },
  {
   "cell_type": "markdown",
   "id": "10c0030e",
   "metadata": {
    "id": "ee2fdd6b",
    "papermill": {
     "duration": 0.120518,
     "end_time": "2022-02-04T22:12:57.537539",
     "exception": false,
     "start_time": "2022-02-04T22:12:57.417021",
     "status": "completed"
    },
    "tags": []
   },
   "source": [
    "---"
   ]
  },
  {
   "cell_type": "markdown",
   "id": "b51b6ca1",
   "metadata": {
    "id": "986ace46",
    "papermill": {
     "duration": 0.121157,
     "end_time": "2022-02-04T22:12:57.776230",
     "exception": false,
     "start_time": "2022-02-04T22:12:57.655073",
     "status": "completed"
    },
    "tags": []
   },
   "source": [
    "## 2. Decisoin Tree Classfier:"
   ]
  },
  {
   "cell_type": "code",
   "execution_count": 26,
   "id": "e8ef1d86",
   "metadata": {
    "execution": {
     "iopub.execute_input": "2022-02-04T22:12:58.015598Z",
     "iopub.status.busy": "2022-02-04T22:12:58.014871Z",
     "iopub.status.idle": "2022-02-04T22:53:09.962974Z",
     "shell.execute_reply": "2022-02-04T22:53:09.963522Z"
    },
    "id": "80477e47",
    "outputId": "87631b3c-1680-4260-cc62-5c14becad6cd",
    "papermill": {
     "duration": 2412.068814,
     "end_time": "2022-02-04T22:53:09.963848",
     "exception": false,
     "start_time": "2022-02-04T22:12:57.895034",
     "status": "completed"
    },
    "tags": []
   },
   "outputs": [
    {
     "name": "stdout",
     "output_type": "stream",
     "text": [
      "<<<-------------------------\u001b[1m Evaluating Decision Tree Classifier (DT) \u001b[0m------------------------->>>\n",
      "\n",
      "Accuracy = 71.89999999999999%\n",
      "F1 Score = 71.89999999999999%\n",
      "\n",
      " \u001b[1mConfusiton Matrix:\u001b[0m\n",
      " [[13861  4600]\n",
      " [ 5704 12515]]\n",
      "\n",
      "\u001b[1mClassification Report:\u001b[0m\n",
      "               precision    recall  f1-score   support\n",
      "\n",
      "           0       0.71      0.75      0.73     18461\n",
      "           1       0.73      0.69      0.71     18219\n",
      "\n",
      "    accuracy                           0.72     36680\n",
      "   macro avg       0.72      0.72      0.72     36680\n",
      "weighted avg       0.72      0.72      0.72     36680\n",
      "\n"
     ]
    },
    {
     "data": {
      "image/png": "[encoded data removed]",
      "text/plain": [
       "<Figure size 720x432 with 1 Axes>"
      ]
     },
     "metadata": {
      "needs_background": "light"
     },
     "output_type": "display_data"
    },
    {
     "name": "stdout",
     "output_type": "stream",
     "text": [
      "Running time: 6.237635850906372 Seconds\n"
     ]
    }
   ],
   "source": [
    "#Building Decision Tree Classifier\n",
    "\n",
    "DT_classifier = DecisionTreeClassifier()\n",
    "start_time_DT=time.time()\n",
    "param_dist = {\"max_depth\": [3, 5, 7, None],\n",
    "              \"max_features\": randint(1, len(features)-1),\n",
    "              \"min_samples_leaf\": randint(1, len(features)-1),\n",
    "              \"criterion\": [\"gini\", \"entropy\"]}\n",
    "RCV = RandomizedSearchCV(DT_classifier, param_dist, n_iter=50, scoring='roc_auc', n_jobs=-1, cv=10, random_state=1)\n",
    "# RandomizedsearchCV optimization parameters\n",
    "DT = DT_classifier.fit(X_train, Y_train)\n",
    "Y_pred = DT.predict(X_test)\n",
    "pred_prob = DT.predict_proba(X_test)\n",
    "end_time_DT=time.time()\n",
    "total_time_DT=end_time_DT-start_time_DT\n",
    "Classification_Summary(Y_pred,pred_prob,1)\n",
    "print('Running time: %s Seconds'%total_time_DT)"
   ]
  },
  {
   "cell_type": "markdown",
   "id": "790b456b",
   "metadata": {
    "id": "3be2c8a6",
    "papermill": {
     "duration": 0.124361,
     "end_time": "2022-02-04T22:53:10.225936",
     "exception": false,
     "start_time": "2022-02-04T22:53:10.101575",
     "status": "completed"
    },
    "tags": []
   },
   "source": [
    "---"
   ]
  },
  {
   "cell_type": "markdown",
   "id": "9b797dcc",
   "metadata": {
    "id": "f9b4a1f0",
    "papermill": {
     "duration": 0.12768,
     "end_time": "2022-02-04T22:53:10.562661",
     "exception": false,
     "start_time": "2022-02-04T22:53:10.434981",
     "status": "completed"
    },
    "tags": []
   },
   "source": [
    "## 3. Random Forest Classfier:"
   ]
  },
  {
   "cell_type": "code",
   "execution_count": 27,
   "id": "7c004978",
   "metadata": {
    "execution": {
     "iopub.execute_input": "2022-02-04T22:53:10.822752Z",
     "iopub.status.busy": "2022-02-04T22:53:10.821794Z",
     "iopub.status.idle": "2022-02-04T22:53:34.996037Z",
     "shell.execute_reply": "2022-02-04T22:53:34.996584Z"
    },
    "id": "72085a34",
    "outputId": "16ff1405-82f3-448d-e3ce-6348bba76561",
    "papermill": {
     "duration": 24.312844,
     "end_time": "2022-02-04T22:53:34.996791",
     "exception": false,
     "start_time": "2022-02-04T22:53:10.683947",
     "status": "completed"
    },
    "tags": []
   },
   "outputs": [
    {
     "name": "stdout",
     "output_type": "stream",
     "text": [
      "<<<-------------------------\u001b[1m Evaluating Random Forest Classifier (RF) \u001b[0m------------------------->>>\n",
      "\n",
      "Accuracy = 74.2%\n",
      "F1 Score = 74.2%\n",
      "\n",
      " \u001b[1mConfusiton Matrix:\u001b[0m\n",
      " [[13806  4655]\n",
      " [ 4803 13416]]\n",
      "\n",
      "\u001b[1mClassification Report:\u001b[0m\n",
      "               precision    recall  f1-score   support\n",
      "\n",
      "           0       0.74      0.75      0.74     18461\n",
      "           1       0.74      0.74      0.74     18219\n",
      "\n",
      "    accuracy                           0.74     36680\n",
      "   macro avg       0.74      0.74      0.74     36680\n",
      "weighted avg       0.74      0.74      0.74     36680\n",
      "\n"
     ]
    },
    {
     "data": {
      "image/png": "[encoded data removed]",
      "text/plain": [
       "<Figure size 720x432 with 1 Axes>"
      ]
     },
     "metadata": {
      "needs_background": "light"
     },
     "output_type": "display_data"
    },
    {
     "name": "stdout",
     "output_type": "stream",
     "text": [
      "Running time: 72.31188488006592 Seconds\n"
     ]
    }
   ],
   "source": [
    "# Building Random-Forest Classifier\n",
    "\n",
    "RF_classifier = RandomForestClassifier()\n",
    "start_time_RF=time.time()\n",
    "param_dist={'bootstrap': [True, False],\n",
    "            'max_depth': [10, 20, 50, 100, None],\n",
    "            'max_features': ['auto', 'sqrt'],\n",
    "            'min_samples_leaf': [1, 2, 4],\n",
    "            'min_samples_split': [2, 5, 10],\n",
    "            'n_estimators': [50, 100],\n",
    "            'criterion': [\"gini\", \"entropy\"]}\n",
    "  \n",
    "RCV = RandomizedSearchCV(RF_classifier, param_dist, n_iter=50, scoring='roc_auc', n_jobs=-1, cv=10, random_state=0)\n",
    "# RandomizedsearchCV optimization parameters\n",
    "RF = RF_classifier.fit(X_train, Y_train)\n",
    "Y_pred = RF.predict(X_test)\n",
    "pred_prob = RF.predict_proba(X_test)\n",
    "end_time_RF =time.time()\n",
    "total_time_RF=end_time_RF-start_time_RF\n",
    "Classification_Summary(Y_pred,pred_prob,2)\n",
    "print('Running time: %s Seconds'%total_time_RF)"
   ]
  },
  {
   "cell_type": "markdown",
   "id": "93742db7",
   "metadata": {
    "id": "1b05ceec",
    "papermill": {
     "duration": 0.126038,
     "end_time": "2022-02-04T22:53:35.252807",
     "exception": false,
     "start_time": "2022-02-04T22:53:35.126769",
     "status": "completed"
    },
    "tags": []
   },
   "source": [
    "---"
   ]
  },
  {
   "cell_type": "markdown",
   "id": "e0d080ff",
   "metadata": {
    "id": "be513488",
    "papermill": {
     "duration": 0.129272,
     "end_time": "2022-02-04T22:53:35.514265",
     "exception": false,
     "start_time": "2022-02-04T22:53:35.384993",
     "status": "completed"
    },
    "tags": []
   },
   "source": [
    "## 4. Naive Bayes Classfier:"
   ]
  },
  {
   "cell_type": "code",
   "execution_count": 28,
   "id": "65ebe2e8",
   "metadata": {
    "execution": {
     "iopub.execute_input": "2022-02-04T22:53:35.778770Z",
     "iopub.status.busy": "2022-02-04T22:53:35.777811Z",
     "iopub.status.idle": "2022-02-04T22:53:36.391529Z",
     "shell.execute_reply": "2022-02-04T22:53:36.392245Z"
    },
    "id": "664eea17",
    "outputId": "19165b81-4639-478c-c52d-3a1e35fba094",
    "papermill": {
     "duration": 0.753957,
     "end_time": "2022-02-04T22:53:36.392445",
     "exception": false,
     "start_time": "2022-02-04T22:53:35.638488",
     "status": "completed"
    },
    "scrolled": true,
    "tags": []
   },
   "outputs": [
    {
     "name": "stdout",
     "output_type": "stream",
     "text": [
      "<<<-------------------------\u001b[1m Evaluating Naïve Bayes Classifier (NB) \u001b[0m------------------------->>>\n",
      "\n",
      "Accuracy = 68.10000000000001%\n",
      "F1 Score = 67.60000000000001%\n",
      "\n",
      " \u001b[1mConfusiton Matrix:\u001b[0m\n",
      " [[10363  8098]\n",
      " [ 3604 14615]]\n",
      "\n",
      "\u001b[1mClassification Report:\u001b[0m\n",
      "               precision    recall  f1-score   support\n",
      "\n",
      "           0       0.74      0.56      0.64     18461\n",
      "           1       0.64      0.80      0.71     18219\n",
      "\n",
      "    accuracy                           0.68     36680\n",
      "   macro avg       0.69      0.68      0.68     36680\n",
      "weighted avg       0.69      0.68      0.68     36680\n",
      "\n"
     ]
    },
    {
     "data": {
      "image/png": "[encoded data removed]",
      "text/plain": [
       "<Figure size 720x432 with 1 Axes>"
      ]
     },
     "metadata": {
      "needs_background": "light"
     },
     "output_type": "display_data"
    },
    {
     "name": "stdout",
     "output_type": "stream",
     "text": [
      "Running time: 0.08776283264160156 Seconds\n"
     ]
    }
   ],
   "source": [
    "# Building Naive Bayes Classifier\n",
    "\n",
    "NB_classifier = BernoulliNB()\n",
    "start_time_NB = time.time()\n",
    "# Because the current data is discrete and there are only two classifications (default or non-default) so use Bernoulli()\n",
    "param_dist = {'alpha': [0.01, 0.1, 0.5, 1.0],\n",
    "              'fit_prior':['True', 'False']}\n",
    "\n",
    "RCV = RandomizedSearchCV(NB_classifier, param_dist, n_iter=50, scoring='roc_auc', n_jobs=-1, cv=10, random_state=0)\n",
    "# RandomizedsearchCV optimization parameters\n",
    "NB = NB_classifier.fit(X_train, Y_train)\n",
    "Y_pred = NB.predict(X_test)\n",
    "pred_prob = NB.predict_proba(X_test)\n",
    "end_time_NB=time.time()\n",
    "total_time_NB=end_time_NB-start_time_NB\n",
    "Classification_Summary(Y_pred,pred_prob,3)\n",
    "print('Running time: %s Seconds'%total_time_NB)"
   ]
  },
  {
   "cell_type": "markdown",
   "id": "9ed779b8",
   "metadata": {
    "id": "32275875",
    "papermill": {
     "duration": 0.13184,
     "end_time": "2022-02-04T22:53:36.658635",
     "exception": false,
     "start_time": "2022-02-04T22:53:36.526795",
     "status": "completed"
    },
    "tags": []
   },
   "source": [
    "---"
   ]
  },
  {
   "cell_type": "code",
   "execution_count": 29,
   "id": "3502bc91",
   "metadata": {
    "id": "fac2880e",
    "outputId": "ab873a0d-6b6f-4511-ae69-b6701d54dc0b",
    "papermill": {
     "duration": null,
     "end_time": null,
     "exception": null,
     "start_time": null,
     "status": "pending"
    },
    "tags": []
   },
   "outputs": [
    {
     "data": {
      "image/png": "[encoded data removed]",
      "text/plain": [
       "<Figure size 1440x252 with 8 Axes>"
      ]
     },
     "metadata": {
      "needs_background": "light"
     },
     "output_type": "display_data"
    }
   ],
   "source": [
    "#Plotting Confusion-Matrix of all the predictive Models\n",
    "    \n",
    "def conf_mat_plot(all_models):\n",
    "    plt.figure(figsize=[20,3.5*math.ceil(len(all_models)*len(labels)/14)])\n",
    "    \n",
    "    for i in range(len(all_models)):\n",
    "        if len(labels)<=4:\n",
    "            plt.subplot(2,4,i+1)\n",
    "        else:\n",
    "            plt.subplot(math.ceil(len(all_models)/3),3,i+1)\n",
    "        pred = all_models[i].predict(X_test)\n",
    "        #plot_cm(Y_test, pred)\n",
    "        sns.heatmap(confusion_matrix(Y_test, pred), annot=True, cmap='Reds',fmt='.0f') \n",
    "        plt.title(Evaluation.index[i])\n",
    "    plt.tight_layout()\n",
    "    plt.show()\n",
    "\n",
    "conf_mat_plot([LR,DT,RF,NB])"
   ]
  },
  {
   "cell_type": "code",
   "execution_count": 30,
   "id": "48e7a4bb",
   "metadata": {},
   "outputs": [
    {
     "data": {
      "image/png": "[encoded data removed]",
      "text/plain": [
       "<Figure size 1440x1008 with 1 Axes>"
      ]
     },
     "metadata": {
      "needs_background": "light"
     },
     "output_type": "display_data"
    }
   ],
   "source": [
    "#Create a model to show the time spent on the graph\n",
    "time_models=[total_time_LR,total_time_DT,total_time_RF,total_time_NB]\n",
    "performance=[]\n",
    "def time_cost_bar(all_models):\n",
    "    for i in time_models:\n",
    "        performance.append(i)\n",
    "    plt.figure(figsize=[20,3.5*math.ceil(len(all_models))])\n",
    "    plt.bar(all_models,performance,width = 0.35,align='center',color = 'c',alpha=0.8)\n",
    "    plt.ylabel('Seconds')\n",
    "    for a,b in zip(all_models,performance):\n",
    "        plt.text(a, b+0.05, '%.4f' % b, ha='center', va= 'bottom',fontsize=15)\n",
    "    return(plt.show())\n",
    "time_cost_bar(all_models)"
   ]
  },
  {
   "cell_type": "code",
   "execution_count": 31,
   "id": "92f37711",
   "metadata": {
    "id": "46bc3267",
    "outputId": "6b166b75-3bc0-4514-e486-2f7e06eb58b8",
    "papermill": {
     "duration": null,
     "end_time": null,
     "exception": null,
     "start_time": null,
     "status": "pending"
    },
    "tags": []
   },
   "outputs": [
    {
     "name": "stdout",
     "output_type": "stream",
     "text": [
      "                                                ML Algorithms Comparison                                                \n"
     ]
    },
    {
     "data": {
      "image/png": "[encoded data removed]",
      "text/plain": [
       "<Figure size 1080x720 with 2 Axes>"
      ]
     },
     "metadata": {
      "needs_background": "light"
     },
     "output_type": "display_data"
    }
   ],
   "source": [
    "#Comparing all the models Scores\n",
    "print('ML Algorithms Comparison'.center(120))\n",
    "plt.figure(figsize=[15,10])\n",
    "sns.heatmap(Evaluation, annot=True, vmin=65, vmax=100, cmap='Reds', fmt='.1f')\n",
    "plt.show()"
   ]
  },
  {
   "cell_type": "markdown",
   "id": "a0642b46",
   "metadata": {
    "id": "5372172f",
    "papermill": {
     "duration": null,
     "end_time": null,
     "exception": null,
     "start_time": null,
     "status": "pending"
    },
    "tags": []
   },
   "source": [
    "**Insights:** For the current problem statement, it is more important to focus on the F1-score.can note from the above heatmap that the Boosting & RandomForest Models Performed well on the current dataset..."
   ]
  },
  {
   "cell_type": "markdown",
   "id": "f108cb88",
   "metadata": {
    "id": "b307e664",
    "papermill": {
     "duration": null,
     "end_time": null,
     "exception": null,
     "start_time": null,
     "status": "pending"
    },
    "tags": []
   },
   "source": [
    "---"
   ]
  },
  {
   "cell_type": "markdown",
   "id": "fd5cb5f5",
   "metadata": {
    "id": "7938051f",
    "papermill": {
     "duration": null,
     "end_time": null,
     "exception": null,
     "start_time": null,
     "status": "pending"
    },
    "tags": []
   },
   "source": [
    "# <center> 7. Project Outcomes & Conclusions"
   ]
  },
  {
   "cell_type": "markdown",
   "id": "073002b7",
   "metadata": {
    "id": "c207a2b2",
    "papermill": {
     "duration": null,
     "end_time": null,
     "exception": null,
     "start_time": null,
     "status": "pending"
    },
    "tags": []
   },
   "source": [
    "## Here are some of the key outcomes of the project:\n",
    "- The Dataset was large enough summing around 1.5 lakh samples & after preprocessing 31.8% of the datasamples were dropped. \n",
    "- The samples were slightly imbalanced after processing, hence SMOTE Technique was applied on the data to  balance the classes, adding 15.5% more samples to the dataset.\n",
    "- Visualising the distribution of data & their relationships, helped us to get some insights on the relationship between the feature-set.\n",
    "- Feature Selection/Eliminination was carried out and appropriate features were shortlisted.\n",
    "- Testing multiple algorithms with fine-tuning hyperparamters gave us some understanding on the model performance for various algorithms on this specific dataset.\n",
    "- The & Random Forest Classifier performed exceptionally well on the current dataset, considering F1-score as the key-metric.\n",
    "- Yet it wise to also consider simpler model like Logistic Regression as it is more generalisable & is computationally less expensive, but comes at the cost of slight misclassifications."
   ]
  },
  {
   "cell_type": "code",
   "execution_count": null,
   "id": "ef8720dc",
   "metadata": {
    "papermill": {
     "duration": null,
     "end_time": null,
     "exception": null,
     "start_time": null,
     "status": "pending"
    },
    "tags": []
   },
   "outputs": [],
   "source": [
    "#<<<---------------------------------------------THE END----------------------------------------------------------------->>>"
   ]
  }
 ],
 "metadata": {
  "kernelspec": {
   "display_name": "Python 3 (ipykernel)",
   "language": "python",
   "name": "python3"
  },
  "language_info": {
   "codemirror_mode": {
    "name": "ipython",
    "version": 3
   },
   "file_extension": ".py",
   "mimetype": "text/x-python",
   "name": "python",
   "nbconvert_exporter": "python",
   "pygments_lexer": "ipython3",
   "version": "3.8.12"
  },
  "papermill": {
   "default_parameters": {},
   "duration": null,
   "end_time": null,
   "environment_variables": {},
   "exception": null,
   "input_path": "__notebook__.ipynb",
   "output_path": "__notebook__.ipynb",
   "parameters": {},
   "start_time": "2022-02-04T20:53:48.651076",
   "version": "2.3.3"
  },
  "toc": {
   "base_numbering": 1,
   "nav_menu": {},
   "number_sections": true,
   "sideBar": true,
   "skip_h1_title": false,
   "title_cell": "Table of Contents",
   "title_sidebar": "Contents",
   "toc_cell": false,
   "toc_position": {},
   "toc_section_display": true,
   "toc_window_display": false
  }
 },
 "nbformat": 4,
 "nbformat_minor": 5
}
