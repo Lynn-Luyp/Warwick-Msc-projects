{
 "cells": [
  {
   "cell_type": "code",
   "execution_count": 33,
   "id": "d4d00502",
   "metadata": {},
   "outputs": [
    {
     "name": "stdout",
     "output_type": "stream",
     "text": [
      "{0, 1, 2}\n",
      "# Tuning hyperparameters for accuracy\n",
      "\n",
      "\n",
      "Best parameters set found on the training set:\n",
      "{'criterion': 'entropy', 'max_depth': 7, 'max_features': None, 'min_samples_split': 3}\n",
      "\n",
      "\n"
     ]
    }
   ],
   "source": [
    "import numpy as np\n",
    "import matplotlib.pyplot as plt\n",
    "import pandas as pd\n",
    "from sklearn.tree import DecisionTreeClassifier as DTC\n",
    "\n",
    "\n",
    "# Importing the dataset\n",
    "dataset = pd.read_csv('machine_data_for_student_4.csv')\n",
    "dataset = dataset.dropna().reset_index(drop=True)\n",
    "X = dataset.iloc[:,1:-1].values\n",
    "y = dataset.iloc[:,-1].values\n",
    "print(set(y))\n",
    "\n",
    "# Splitting the dataset into the Training set and Test set\n",
    "from sklearn.model_selection import train_test_split\n",
    "X_train, X_test, y_train, y_test = train_test_split(X, y, test_size = 0.2, random_state = 0)\n",
    "\n",
    "# Feature Scaling\n",
    "# from sklearn.preprocessing import StandardScaler\n",
    "# sc_X = StandardScaler()\n",
    "# X_train = sc_X.fit_transform(X_train)\n",
    "# X_test = sc_X.transform(X_test)\n",
    "\n",
    "from sklearn.model_selection import GridSearchCV\n",
    "\n",
    "tuned_parameters = [{'criterion': ['entropy','gini'],\n",
    "                     'max_depth': [3, 5,7],\n",
    "                     'min_samples_split': [3, 5, 7],\n",
    "                     'max_features': [\"sqrt\", \"log2\", None]}]\n",
    "\n",
    "scores = ['accuracy']\n",
    "\n",
    "for score in scores:\n",
    "    print(\"# Tuning hyperparameters for %s\" % score)\n",
    "    print(\"\\n\")\n",
    "    clf = GridSearchCV(DTC(class_weight=\"balanced\"), tuned_parameters, cv=5,\n",
    "                       scoring= score)\n",
    "    clf.fit(X_train, y_train)\n",
    "    print(\"Best parameters set found on the training set:\")\n",
    "    print(clf.best_params_)\n",
    "    print(\"\\n\")"
   ]
  },
  {
   "cell_type": "code",
   "execution_count": 36,
   "id": "429cd5d5",
   "metadata": {},
   "outputs": [
    {
     "data": {
      "text/plain": [
       "array([[1.620e+02, 2.095e+02, 2.500e+01, ..., 1.610e+01, 1.730e+01,\n",
       "        1.000e+01],\n",
       "       [4.100e+01, 1.155e+02, 1.000e-01, ..., 6.210e+01, 2.200e+01,\n",
       "        2.980e+01],\n",
       "       [1.790e+02, 2.432e+02, 1.640e+01, ..., 2.100e+01, 6.000e+01,\n",
       "        8.800e+00],\n",
       "       ...,\n",
       "       [2.990e+02, 2.932e+02, 7.420e+01, ..., 2.400e+00, 1.106e+02,\n",
       "        4.170e+01],\n",
       "       [5.400e+01, 2.221e+02, 5.230e+01, ..., 6.220e+01, 4.960e+01,\n",
       "        4.640e+01],\n",
       "       [2.020e+02, 2.554e+02, 1.499e+02, ..., 5.240e+01, 7.740e+01,\n",
       "        2.640e+01]])"
      ]
     },
     "execution_count": 36,
     "metadata": {},
     "output_type": "execute_result"
    }
   ],
   "source": [
    "X_test"
   ]
  },
  {
   "cell_type": "code",
   "execution_count": 40,
   "id": "0cd44179",
   "metadata": {},
   "outputs": [
    {
     "data": {
      "text/plain": [
       "0.8607449856733526"
      ]
     },
     "execution_count": 40,
     "metadata": {},
     "output_type": "execute_result"
    }
   ],
   "source": [
    "clf.best_score_"
   ]
  },
  {
   "cell_type": "code",
   "execution_count": 19,
   "id": "f00a52fa",
   "metadata": {},
   "outputs": [
    {
     "data": {
      "text/plain": [
       "array([1.87000e+02, 2.38700e+02, 1.42600e+02, 4.40000e+01, 4.40000e+00,\n",
       "       5.14000e+01, 7.71800e+02, 4.46900e+02, 1.89300e+02, 6.17000e+01,\n",
       "       7.20000e+00, 1.49865e+04, 1.98000e+01, 1.10000e+01, 4.80000e+00,\n",
       "       4.67000e+01, 2.16000e+01, 6.80000e+00])"
      ]
     },
     "execution_count": 19,
     "metadata": {},
     "output_type": "execute_result"
    }
   ],
   "source": [
    "X[0]"
   ]
  },
  {
   "cell_type": "code",
   "execution_count": 24,
   "id": "8c6bedbc",
   "metadata": {},
   "outputs": [
    {
     "data": {
      "text/plain": [
       "(2182, 18)"
      ]
     },
     "execution_count": 24,
     "metadata": {},
     "output_type": "execute_result"
    }
   ],
   "source": [
    "X.shape"
   ]
  },
  {
   "cell_type": "code",
   "execution_count": 26,
   "id": "21174179",
   "metadata": {},
   "outputs": [
    {
     "data": {
      "text/plain": [
       "(2, 18)"
      ]
     },
     "execution_count": 26,
     "metadata": {},
     "output_type": "execute_result"
    }
   ],
   "source": [
    "X[0:2].shape"
   ]
  },
  {
   "cell_type": "code",
   "execution_count": 28,
   "id": "609e4ee0",
   "metadata": {},
   "outputs": [
    {
     "data": {
      "text/plain": [
       "array([1, 2], dtype=int64)"
      ]
     },
     "execution_count": 28,
     "metadata": {},
     "output_type": "execute_result"
    }
   ],
   "source": [
    "clf.predict(X[0:2])"
   ]
  },
  {
   "cell_type": "code",
   "execution_count": 29,
   "id": "23b138a3",
   "metadata": {},
   "outputs": [
    {
     "data": {
      "text/plain": [
       "['machines_model.joblib']"
      ]
     },
     "execution_count": 29,
     "metadata": {},
     "output_type": "execute_result"
    }
   ],
   "source": [
    "from joblib import dump, load\n",
    "dump(clf, 'machines_model.joblib') "
   ]
  },
  {
   "cell_type": "code",
   "execution_count": 32,
   "id": "f6fb9f5d",
   "metadata": {},
   "outputs": [],
   "source": [
    "clf = load('machines_model.joblib')"
   ]
  },
  {
   "cell_type": "code",
   "execution_count": 10,
   "id": "6d98c873",
   "metadata": {},
   "outputs": [
    {
     "data": {
      "text/plain": [
       "(2182,)"
      ]
     },
     "execution_count": 10,
     "metadata": {},
     "output_type": "execute_result"
    }
   ],
   "source": [
    "y.shape"
   ]
  },
  {
   "cell_type": "code",
   "execution_count": null,
   "id": "b2fda937",
   "metadata": {},
   "outputs": [],
   "source": []
  }
 ],
 "metadata": {
  "kernelspec": {
   "display_name": "Python 3",
   "language": "python",
   "name": "python3"
  },
  "language_info": {
   "codemirror_mode": {
    "name": "ipython",
    "version": 3
   },
   "file_extension": ".py",
   "mimetype": "text/x-python",
   "name": "python",
   "nbconvert_exporter": "python",
   "pygments_lexer": "ipython3",
   "version": "3.8.8"
  },
  "toc": {
   "base_numbering": 1,
   "nav_menu": {},
   "number_sections": true,
   "sideBar": true,
   "skip_h1_title": false,
   "title_cell": "Table of Contents",
   "title_sidebar": "Contents",
   "toc_cell": false,
   "toc_position": {},
   "toc_section_display": true,
   "toc_window_display": false
  }
 },
 "nbformat": 4,
 "nbformat_minor": 5
}
